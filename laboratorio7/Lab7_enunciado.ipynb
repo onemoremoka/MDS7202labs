{
  "cells": [
    {
      "cell_type": "markdown",
      "metadata": {
        "cell_id": "6db569e7c5d04f9e9b48cb129df732fc",
        "deepnote_cell_type": "markdown",
        "id": "XUZ1dFPHzAHl"
      },
      "source": [
        "<h1><center>Laboratorio 7: Interpretabilidad 🤖</center></h1>\n",
        "\n",
        "<center><strong>MDS7202: Laboratorio de Programación Científica para Ciencia de Datos - Otoño 2025</strong></center>"
      ]
    },
    {
      "cell_type": "markdown",
      "metadata": {
        "cell_id": "737a4540885f41acb34b9863a968b907",
        "deepnote_cell_type": "markdown",
        "id": "UD8X1uhGzAHq"
      },
      "source": [
        "### Cuerpo Docente:\n",
        "\n",
        "- Profesores: Stefano Schiappacasse, Sebastián Tinoco\n",
        "- Auxiliares: Melanie Peña, Valentina Rojas\n",
        "- Ayudantes: Angelo Muñoz, Valentina Zúñiga"
      ]
    },
    {
      "cell_type": "markdown",
      "metadata": {
        "cell_id": "e4a6f26138654eb49ee963fb4c7ecf46",
        "deepnote_cell_type": "markdown",
        "id": "tXflExjqzAHr"
      },
      "source": [
        "### Equipo: SUPER IMPORTANTE - notebooks sin nombre no serán revisados\n",
        "\n",
        "- Nombre de alumno 1: Marcos Ignacio Huenchumil Illanes\n",
        "- Nombre de alumno 2: Nicolas Fuenzalida Sáez\n"
      ]
    },
    {
      "cell_type": "markdown",
      "metadata": {
        "cell_id": "7dd4aaebd4f44063aedbb47ea36349a5",
        "deepnote_cell_type": "markdown",
        "id": "AD-V0bbZzAHr",
        "owner_user_id": "badcc427-fd3d-4615-9296-faa43ec69cfb"
      },
      "source": [
        "### **Link de repositorio de GitHub:** [Insertar Repositorio](https://github.com/onemoremoka/MDS7202labs/tree/lab7)"
      ]
    },
    {
      "cell_type": "markdown",
      "metadata": {
        "cell_id": "abe08e51696a471e8cc8ac1fa4216f0b",
        "deepnote_cell_type": "markdown",
        "id": "EcnsiQMkzAHr"
      },
      "source": [
        "### Indice\n",
        "\n",
        "1. [Temas a tratar](#Temas-a-tratar:)\n",
        "3. [Descripcción del laboratorio](#Descripción-del-laboratorio.)\n",
        "4. [Desarrollo](#Desarrollo)"
      ]
    },
    {
      "cell_type": "markdown",
      "metadata": {
        "cell_id": "0174e9377ebb43eaa0d12718db4c81ec",
        "deepnote_cell_type": "markdown",
        "id": "6uBLPj1PzAHs"
      },
      "source": [
        "## Temas a tratar\n",
        "\n",
        "- Clasificación usando `XGBoost`.\n",
        "- Métodos Agnósticos Globales de Interpretabilidad (`Partial Dependence Plot`, `Permutation Feature Importance`)\n",
        "- Métodos Agnósticos Locales de Interpretabilidad (`Scoped Rules`, `SHAP`)\n",
        "\n",
        "## Reglas:\n",
        "\n",
        "- **Grupos de 2 personas**\n",
        "- Fecha de entrega: 6 días de plazo con descuento de 1 punto por día. Entregas Martes a las 23:59.\n",
        "- Instrucciones del lab el viernes a las 16:15 en formato online. Asistencia no es obligatoria, pero se recomienda fuertemente asistir.\n",
        "- <u>Prohibidas las copias</u>. Cualquier intento de copia será debidamente penalizado con el reglamento de la escuela.\n",
        "- Tienen que subir el laboratorio a u-cursos y a su repositorio de github. Labs que no estén en u-cursos no serán revisados. Recuerden que el repositorio también tiene nota.\n",
        "- Cualquier duda fuera del horario de clases al foro. Mensajes al equipo docente serán respondidos por este medio.\n",
        "- Pueden usar cualquier material del curso que estimen conveniente.\n",
        "\n",
        "\n",
        "### Objetivos principales del laboratorio\n",
        "\n",
        "- Generar un pipeline de clasificación con `XGBoost`.\n",
        "- Implementar modelos de interpretabilidad para explicar el funcionamiento del modelo de clasificación.\n",
        "\n",
        "El laboratorio deberá ser desarrollado sin el uso indiscriminado de iteradores nativos de python (aka \"for\", \"while\"). La idea es que aprendan a exprimir al máximo las funciones optimizadas que nos entrega `pandas`, las cuales vale mencionar, son bastante más eficientes que los iteradores nativos sobre DataFrames."
      ]
    },
    {
      "cell_type": "markdown",
      "metadata": {
        "cell_id": "e2c4f9b4097846b680f8d1c500aa49df",
        "deepnote_cell_type": "markdown",
        "id": "xpOTbQcxbSiy"
      },
      "source": [
        "# 1. Problemas Clínicos del Dr. Simi"
      ]
    },
    {
      "cell_type": "markdown",
      "metadata": {
        "cell_id": "2911f2d6934f43fe8950320d84f3b031",
        "deepnote_cell_type": "markdown",
        "id": "3Q93vbNS25bM"
      },
      "source": [
        "<p align=\"center\">\n",
        "  <img src=\"https://gantz.cl/wp-content/uploads/2020/01/79024136_2718114448239059_7240913062570491904_o.jpg\" width=\"350\">\n",
        "</p>"
      ]
    },
    {
      "cell_type": "markdown",
      "metadata": {
        "cell_id": "2bb2213a347e4d55bfc8fea55068a88f",
        "deepnote_cell_type": "markdown",
        "id": "Bi7JI3YNQy7L"
      },
      "source": [
        "El reconocido **Dr. Simi**, famoso vendedor de medicamentos en latinoamerica, debido a la creciente prevalencia de enfermedades crónicas, como la diabetes, decidió abrir una clínica especializada en el tratamiento de esta enfermedad en nuestro país.\n",
        "\n",
        "La clínica del Doctor Simi se convirtió en un lugar donde los pacientes con diabetes podrían recibir atención médica integral. El personal médico estaba compuesto por especialistas en endocrinología, nutrición y enfermería, todos capacitados en el manejo de la diabetes.\n",
        "\n",
        "Sin embargo él se ha dado cuenta que los tiempos han cambiado y gracias a las tecnologías es posible generar mejores predicciones en la diabetes conociendo el historial médico de las personas. Por esto, el doctor se ha colocado una meta de incluir modelos de machine learning dentro de sus clínicas, para ello le ha solicitado crear un modelo capaz de predecir/clasificar diabetes pero le rogó que el desarrollo del modelo tuviera un especial enfoque en la interpretabilidad de lo que hace su modelo.\n",
        "\n",
        "Para que usted pueda entrenar el modelo, Dr. Simi le ha entregado un dataset de todos los clientes que fueron detectados con diabetes a lo largo de la historia de la clinica. Con ello, adjunta el historial médico de las personas en forma de datos tabulares para que usted pueda realizar fácilmente la clasificación.\n"
      ]
    },
    {
      "cell_type": "code",
      "execution_count": 1,
      "metadata": {
        "cell_id": "3252f09552814a80ac2d5e3cc67a1447",
        "deepnote_cell_type": "code",
        "deepnote_to_be_reexecuted": false,
        "execution_millis": 294,
        "execution_start": 1686884002582,
        "id": "bED3w3tDbSCf",
        "outputId": "3dc8c34d-98b8-474c-c52c-83bd837ee246",
        "source_hash": "fa5e6129"
      },
      "outputs": [
        {
          "data": {
            "text/html": [
              "<div>\n",
              "<style scoped>\n",
              "    .dataframe tbody tr th:only-of-type {\n",
              "        vertical-align: middle;\n",
              "    }\n",
              "\n",
              "    .dataframe tbody tr th {\n",
              "        vertical-align: top;\n",
              "    }\n",
              "\n",
              "    .dataframe thead th {\n",
              "        text-align: right;\n",
              "    }\n",
              "</style>\n",
              "<table border=\"1\" class=\"dataframe\">\n",
              "  <thead>\n",
              "    <tr style=\"text-align: right;\">\n",
              "      <th></th>\n",
              "      <th>Age</th>\n",
              "      <th>Sex</th>\n",
              "      <th>HighChol</th>\n",
              "      <th>CholCheck</th>\n",
              "      <th>BMI</th>\n",
              "      <th>Smoker</th>\n",
              "      <th>HeartDiseaseorAttack</th>\n",
              "      <th>PhysActivity</th>\n",
              "      <th>Fruits</th>\n",
              "      <th>Veggies</th>\n",
              "      <th>HvyAlcoholConsump</th>\n",
              "      <th>GenHlth</th>\n",
              "      <th>MentHlth</th>\n",
              "      <th>PhysHlth</th>\n",
              "      <th>DiffWalk</th>\n",
              "      <th>Stroke</th>\n",
              "      <th>HighBP</th>\n",
              "      <th>Diabetes</th>\n",
              "    </tr>\n",
              "  </thead>\n",
              "  <tbody>\n",
              "    <tr>\n",
              "      <th>0</th>\n",
              "      <td>4.0</td>\n",
              "      <td>1.0</td>\n",
              "      <td>0.0</td>\n",
              "      <td>1.0</td>\n",
              "      <td>26.0</td>\n",
              "      <td>0.0</td>\n",
              "      <td>0.0</td>\n",
              "      <td>1.0</td>\n",
              "      <td>0.0</td>\n",
              "      <td>1.0</td>\n",
              "      <td>0.0</td>\n",
              "      <td>3.0</td>\n",
              "      <td>5.0</td>\n",
              "      <td>30.0</td>\n",
              "      <td>0.0</td>\n",
              "      <td>0.0</td>\n",
              "      <td>1.0</td>\n",
              "      <td>0.0</td>\n",
              "    </tr>\n",
              "    <tr>\n",
              "      <th>1</th>\n",
              "      <td>12.0</td>\n",
              "      <td>1.0</td>\n",
              "      <td>1.0</td>\n",
              "      <td>1.0</td>\n",
              "      <td>26.0</td>\n",
              "      <td>1.0</td>\n",
              "      <td>0.0</td>\n",
              "      <td>0.0</td>\n",
              "      <td>1.0</td>\n",
              "      <td>0.0</td>\n",
              "      <td>0.0</td>\n",
              "      <td>3.0</td>\n",
              "      <td>0.0</td>\n",
              "      <td>0.0</td>\n",
              "      <td>0.0</td>\n",
              "      <td>1.0</td>\n",
              "      <td>1.0</td>\n",
              "      <td>0.0</td>\n",
              "    </tr>\n",
              "    <tr>\n",
              "      <th>2</th>\n",
              "      <td>13.0</td>\n",
              "      <td>1.0</td>\n",
              "      <td>0.0</td>\n",
              "      <td>1.0</td>\n",
              "      <td>26.0</td>\n",
              "      <td>0.0</td>\n",
              "      <td>0.0</td>\n",
              "      <td>1.0</td>\n",
              "      <td>1.0</td>\n",
              "      <td>1.0</td>\n",
              "      <td>0.0</td>\n",
              "      <td>1.0</td>\n",
              "      <td>0.0</td>\n",
              "      <td>10.0</td>\n",
              "      <td>0.0</td>\n",
              "      <td>0.0</td>\n",
              "      <td>0.0</td>\n",
              "      <td>0.0</td>\n",
              "    </tr>\n",
              "    <tr>\n",
              "      <th>3</th>\n",
              "      <td>11.0</td>\n",
              "      <td>1.0</td>\n",
              "      <td>1.0</td>\n",
              "      <td>1.0</td>\n",
              "      <td>28.0</td>\n",
              "      <td>1.0</td>\n",
              "      <td>0.0</td>\n",
              "      <td>1.0</td>\n",
              "      <td>1.0</td>\n",
              "      <td>1.0</td>\n",
              "      <td>0.0</td>\n",
              "      <td>3.0</td>\n",
              "      <td>0.0</td>\n",
              "      <td>3.0</td>\n",
              "      <td>0.0</td>\n",
              "      <td>0.0</td>\n",
              "      <td>1.0</td>\n",
              "      <td>0.0</td>\n",
              "    </tr>\n",
              "    <tr>\n",
              "      <th>4</th>\n",
              "      <td>8.0</td>\n",
              "      <td>0.0</td>\n",
              "      <td>0.0</td>\n",
              "      <td>1.0</td>\n",
              "      <td>29.0</td>\n",
              "      <td>1.0</td>\n",
              "      <td>0.0</td>\n",
              "      <td>1.0</td>\n",
              "      <td>1.0</td>\n",
              "      <td>1.0</td>\n",
              "      <td>0.0</td>\n",
              "      <td>2.0</td>\n",
              "      <td>0.0</td>\n",
              "      <td>0.0</td>\n",
              "      <td>0.0</td>\n",
              "      <td>0.0</td>\n",
              "      <td>0.0</td>\n",
              "      <td>0.0</td>\n",
              "    </tr>\n",
              "  </tbody>\n",
              "</table>\n",
              "</div>"
            ],
            "text/plain": [
              "    Age  Sex  HighChol  CholCheck   BMI  Smoker  HeartDiseaseorAttack  \\\n",
              "0   4.0  1.0       0.0        1.0  26.0     0.0                   0.0   \n",
              "1  12.0  1.0       1.0        1.0  26.0     1.0                   0.0   \n",
              "2  13.0  1.0       0.0        1.0  26.0     0.0                   0.0   \n",
              "3  11.0  1.0       1.0        1.0  28.0     1.0                   0.0   \n",
              "4   8.0  0.0       0.0        1.0  29.0     1.0                   0.0   \n",
              "\n",
              "   PhysActivity  Fruits  Veggies  HvyAlcoholConsump  GenHlth  MentHlth  \\\n",
              "0           1.0     0.0      1.0                0.0      3.0       5.0   \n",
              "1           0.0     1.0      0.0                0.0      3.0       0.0   \n",
              "2           1.0     1.0      1.0                0.0      1.0       0.0   \n",
              "3           1.0     1.0      1.0                0.0      3.0       0.0   \n",
              "4           1.0     1.0      1.0                0.0      2.0       0.0   \n",
              "\n",
              "   PhysHlth  DiffWalk  Stroke  HighBP  Diabetes  \n",
              "0      30.0       0.0     0.0     1.0       0.0  \n",
              "1       0.0       0.0     1.0     1.0       0.0  \n",
              "2      10.0       0.0     0.0     0.0       0.0  \n",
              "3       3.0       0.0     0.0     1.0       0.0  \n",
              "4       0.0       0.0     0.0     0.0       0.0  "
            ]
          },
          "execution_count": 1,
          "metadata": {},
          "output_type": "execute_result"
        }
      ],
      "source": [
        "import numpy as np\n",
        "import pandas as pd\n",
        "\n",
        "df = pd.read_csv('diabetes_data.csv')\n",
        "df.head(5)"
      ]
    },
    {
      "cell_type": "markdown",
      "metadata": {
        "cell_id": "2fa50e56411a46858d61f2a42b715ee8",
        "deepnote_cell_type": "markdown",
        "id": "ghYBow5eQy7N"
      },
      "source": [
        "## 2. Clasificación de pacientes con diabetes (5 puntos)\n",
        "\n",
        "<p align=\"center\">\n",
        "  <img src=\"https://media.tenor.com/QH--g3ZaSbsAAAAC/dr-simi-abrazo.gif\" width=\"400\">\n",
        "</p>"
      ]
    },
    {
      "cell_type": "markdown",
      "metadata": {
        "cell_id": "d9f2091b610941f989e7720573424d8a",
        "deepnote_cell_type": "markdown",
        "id": "jnmZfFpxTTYX"
      },
      "source": [
        "Tareas:\n",
        "1. En primer lugar, el reconocido doctor le pide entrenar un modelo de `XGBoost` utilizando como target la columna `Diabetes` del dataset `diabetes_data.csv`. Para el entrenamiento, realice los siguientes pasos:\n",
        "  * Realice una breve exploración de los datos y determine si aplicará transformaciones (MinMaxScaler, StandardScaler, etc.) en alguna/s de las variables. (1 punto) ✅\n",
        "  * Cree un conjunto de entrenamiento y uno de prueba, con una proporción de 1/3 en el conjunto de prueba. (0.5 puntos) ✅\n",
        "  * Cree un ColumnTransformer de preprocesamiento donde aplique las transformaciones determinadas anteriormente. Fije el parámetro `verbose_feature_names_out=False` y fije la salida del ColumnTransformer en formato pandas mediante el método `.set_output(transform='pandas')`. (1 punto) ✅\n",
        "  *  Cree un pipeline donde integre el preprocesamiento y el modelo `XGBoost` y entrene el modelo. Luego utilice `classification_report(..)` para reportar el desempeño del modelo. (1 punto) ✅\n",
        "\n",
        "Comente sus decisiones y los resultados obtenidos con el modelo.\n",
        "\n",
        "2. Luego, le pide responder las siguientes preguntas:\n",
        "  *  ¿Es acaso un buen predictor de diabetes? (0.5 puntos)\n",
        "  * ¿Qué buscan explicar las métricas utilizadas? (0.5 puntos)\n",
        "  * ¿Las métricas utilizadas para medir la predictibilidad le permiten asegurar que su modelo haga una buena elección de las features?(0.5 puntos)"
      ]
    },
    {
      "cell_type": "code",
      "execution_count": 8,
      "metadata": {
        "cell_id": "85306f784b434ca1a6db2d4751525cf0",
        "deepnote_cell_type": "code",
        "deepnote_to_be_reexecuted": false,
        "execution_millis": 11299,
        "execution_start": 1686884005212,
        "id": "eJXc0TpLQy7O",
        "outputId": "efa27dce-a9f9-40e3-ae7b-3ef8c84693c4",
        "source_hash": "4d27a39e"
      },
      "outputs": [
        {
          "name": "stdout",
          "output_type": "stream",
          "text": [
            "Requirement already satisfied: xgboost in /home/ignacio/miniconda3/envs/lab/lib/python3.10/site-packages (3.0.0)\n",
            "Requirement already satisfied: numpy in /home/ignacio/miniconda3/envs/lab/lib/python3.10/site-packages (from xgboost) (1.26.4)\n",
            "Requirement already satisfied: nvidia-nccl-cu12 in /home/ignacio/miniconda3/envs/lab/lib/python3.10/site-packages (from xgboost) (2.26.2.post1)\n",
            "Requirement already satisfied: scipy in /home/ignacio/miniconda3/envs/lab/lib/python3.10/site-packages (from xgboost) (1.11.4)\n"
          ]
        }
      ],
      "source": [
        "! pip install xgboost"
      ]
    },
    {
      "cell_type": "code",
      "execution_count": 7,
      "metadata": {
        "cell_id": "a928e00142bf45ee8d26207bab5a920d",
        "deepnote_cell_type": "code",
        "deepnote_to_be_reexecuted": false,
        "execution_millis": 50,
        "execution_start": 1686930782578,
        "id": "yIxpMFACQy7P",
        "source_hash": "553ccab0"
      },
      "outputs": [
        {
          "name": "stdout",
          "output_type": "stream",
          "text": [
            "<class 'pandas.core.frame.DataFrame'>\n",
            "RangeIndex: 70692 entries, 0 to 70691\n",
            "Data columns (total 18 columns):\n",
            " #   Column                Non-Null Count  Dtype  \n",
            "---  ------                --------------  -----  \n",
            " 0   Age                   70692 non-null  float64\n",
            " 1   Sex                   70692 non-null  float64\n",
            " 2   HighChol              70692 non-null  float64\n",
            " 3   CholCheck             70692 non-null  float64\n",
            " 4   BMI                   70692 non-null  float64\n",
            " 5   Smoker                70692 non-null  float64\n",
            " 6   HeartDiseaseorAttack  70692 non-null  float64\n",
            " 7   PhysActivity          70692 non-null  float64\n",
            " 8   Fruits                70692 non-null  float64\n",
            " 9   Veggies               70692 non-null  float64\n",
            " 10  HvyAlcoholConsump     70692 non-null  float64\n",
            " 11  GenHlth               70692 non-null  float64\n",
            " 12  MentHlth              70692 non-null  float64\n",
            " 13  PhysHlth              70692 non-null  float64\n",
            " 14  DiffWalk              70692 non-null  float64\n",
            " 15  Stroke                70692 non-null  float64\n",
            " 16  HighBP                70692 non-null  float64\n",
            " 17  Diabetes              70692 non-null  float64\n",
            "dtypes: float64(18)\n",
            "memory usage: 9.7 MB\n"
          ]
        }
      ],
      "source": [
        "df.info()"
      ]
    },
    {
      "cell_type": "code",
      "execution_count": 9,
      "metadata": {},
      "outputs": [
        {
          "data": {
            "text/html": [
              "<div>\n",
              "<style scoped>\n",
              "    .dataframe tbody tr th:only-of-type {\n",
              "        vertical-align: middle;\n",
              "    }\n",
              "\n",
              "    .dataframe tbody tr th {\n",
              "        vertical-align: top;\n",
              "    }\n",
              "\n",
              "    .dataframe thead th {\n",
              "        text-align: right;\n",
              "    }\n",
              "</style>\n",
              "<table border=\"1\" class=\"dataframe\">\n",
              "  <thead>\n",
              "    <tr style=\"text-align: right;\">\n",
              "      <th></th>\n",
              "      <th>Age</th>\n",
              "      <th>Sex</th>\n",
              "      <th>HighChol</th>\n",
              "      <th>CholCheck</th>\n",
              "      <th>BMI</th>\n",
              "      <th>Smoker</th>\n",
              "      <th>HeartDiseaseorAttack</th>\n",
              "      <th>PhysActivity</th>\n",
              "      <th>Fruits</th>\n",
              "      <th>Veggies</th>\n",
              "      <th>HvyAlcoholConsump</th>\n",
              "      <th>GenHlth</th>\n",
              "      <th>MentHlth</th>\n",
              "      <th>PhysHlth</th>\n",
              "      <th>DiffWalk</th>\n",
              "      <th>Stroke</th>\n",
              "      <th>HighBP</th>\n",
              "      <th>Diabetes</th>\n",
              "    </tr>\n",
              "  </thead>\n",
              "  <tbody>\n",
              "    <tr>\n",
              "      <th>count</th>\n",
              "      <td>70692.000000</td>\n",
              "      <td>70692.000000</td>\n",
              "      <td>70692.000000</td>\n",
              "      <td>70692.000000</td>\n",
              "      <td>70692.000000</td>\n",
              "      <td>70692.000000</td>\n",
              "      <td>70692.000000</td>\n",
              "      <td>70692.000000</td>\n",
              "      <td>70692.000000</td>\n",
              "      <td>70692.000000</td>\n",
              "      <td>70692.000000</td>\n",
              "      <td>70692.000000</td>\n",
              "      <td>70692.000000</td>\n",
              "      <td>70692.000000</td>\n",
              "      <td>70692.000000</td>\n",
              "      <td>70692.000000</td>\n",
              "      <td>70692.000000</td>\n",
              "      <td>70692.000000</td>\n",
              "    </tr>\n",
              "    <tr>\n",
              "      <th>mean</th>\n",
              "      <td>8.584055</td>\n",
              "      <td>0.456997</td>\n",
              "      <td>0.525703</td>\n",
              "      <td>0.975259</td>\n",
              "      <td>29.856985</td>\n",
              "      <td>0.475273</td>\n",
              "      <td>0.147810</td>\n",
              "      <td>0.703036</td>\n",
              "      <td>0.611795</td>\n",
              "      <td>0.788774</td>\n",
              "      <td>0.042721</td>\n",
              "      <td>2.837082</td>\n",
              "      <td>3.752037</td>\n",
              "      <td>5.810417</td>\n",
              "      <td>0.252730</td>\n",
              "      <td>0.062171</td>\n",
              "      <td>0.563458</td>\n",
              "      <td>0.500000</td>\n",
              "    </tr>\n",
              "    <tr>\n",
              "      <th>std</th>\n",
              "      <td>2.852153</td>\n",
              "      <td>0.498151</td>\n",
              "      <td>0.499342</td>\n",
              "      <td>0.155336</td>\n",
              "      <td>7.113954</td>\n",
              "      <td>0.499392</td>\n",
              "      <td>0.354914</td>\n",
              "      <td>0.456924</td>\n",
              "      <td>0.487345</td>\n",
              "      <td>0.408181</td>\n",
              "      <td>0.202228</td>\n",
              "      <td>1.113565</td>\n",
              "      <td>8.155627</td>\n",
              "      <td>10.062261</td>\n",
              "      <td>0.434581</td>\n",
              "      <td>0.241468</td>\n",
              "      <td>0.495960</td>\n",
              "      <td>0.500004</td>\n",
              "    </tr>\n",
              "    <tr>\n",
              "      <th>min</th>\n",
              "      <td>1.000000</td>\n",
              "      <td>0.000000</td>\n",
              "      <td>0.000000</td>\n",
              "      <td>0.000000</td>\n",
              "      <td>12.000000</td>\n",
              "      <td>0.000000</td>\n",
              "      <td>0.000000</td>\n",
              "      <td>0.000000</td>\n",
              "      <td>0.000000</td>\n",
              "      <td>0.000000</td>\n",
              "      <td>0.000000</td>\n",
              "      <td>1.000000</td>\n",
              "      <td>0.000000</td>\n",
              "      <td>0.000000</td>\n",
              "      <td>0.000000</td>\n",
              "      <td>0.000000</td>\n",
              "      <td>0.000000</td>\n",
              "      <td>0.000000</td>\n",
              "    </tr>\n",
              "    <tr>\n",
              "      <th>25%</th>\n",
              "      <td>7.000000</td>\n",
              "      <td>0.000000</td>\n",
              "      <td>0.000000</td>\n",
              "      <td>1.000000</td>\n",
              "      <td>25.000000</td>\n",
              "      <td>0.000000</td>\n",
              "      <td>0.000000</td>\n",
              "      <td>0.000000</td>\n",
              "      <td>0.000000</td>\n",
              "      <td>1.000000</td>\n",
              "      <td>0.000000</td>\n",
              "      <td>2.000000</td>\n",
              "      <td>0.000000</td>\n",
              "      <td>0.000000</td>\n",
              "      <td>0.000000</td>\n",
              "      <td>0.000000</td>\n",
              "      <td>0.000000</td>\n",
              "      <td>0.000000</td>\n",
              "    </tr>\n",
              "    <tr>\n",
              "      <th>50%</th>\n",
              "      <td>9.000000</td>\n",
              "      <td>0.000000</td>\n",
              "      <td>1.000000</td>\n",
              "      <td>1.000000</td>\n",
              "      <td>29.000000</td>\n",
              "      <td>0.000000</td>\n",
              "      <td>0.000000</td>\n",
              "      <td>1.000000</td>\n",
              "      <td>1.000000</td>\n",
              "      <td>1.000000</td>\n",
              "      <td>0.000000</td>\n",
              "      <td>3.000000</td>\n",
              "      <td>0.000000</td>\n",
              "      <td>0.000000</td>\n",
              "      <td>0.000000</td>\n",
              "      <td>0.000000</td>\n",
              "      <td>1.000000</td>\n",
              "      <td>0.500000</td>\n",
              "    </tr>\n",
              "    <tr>\n",
              "      <th>75%</th>\n",
              "      <td>11.000000</td>\n",
              "      <td>1.000000</td>\n",
              "      <td>1.000000</td>\n",
              "      <td>1.000000</td>\n",
              "      <td>33.000000</td>\n",
              "      <td>1.000000</td>\n",
              "      <td>0.000000</td>\n",
              "      <td>1.000000</td>\n",
              "      <td>1.000000</td>\n",
              "      <td>1.000000</td>\n",
              "      <td>0.000000</td>\n",
              "      <td>4.000000</td>\n",
              "      <td>2.000000</td>\n",
              "      <td>6.000000</td>\n",
              "      <td>1.000000</td>\n",
              "      <td>0.000000</td>\n",
              "      <td>1.000000</td>\n",
              "      <td>1.000000</td>\n",
              "    </tr>\n",
              "    <tr>\n",
              "      <th>max</th>\n",
              "      <td>13.000000</td>\n",
              "      <td>1.000000</td>\n",
              "      <td>1.000000</td>\n",
              "      <td>1.000000</td>\n",
              "      <td>98.000000</td>\n",
              "      <td>1.000000</td>\n",
              "      <td>1.000000</td>\n",
              "      <td>1.000000</td>\n",
              "      <td>1.000000</td>\n",
              "      <td>1.000000</td>\n",
              "      <td>1.000000</td>\n",
              "      <td>5.000000</td>\n",
              "      <td>30.000000</td>\n",
              "      <td>30.000000</td>\n",
              "      <td>1.000000</td>\n",
              "      <td>1.000000</td>\n",
              "      <td>1.000000</td>\n",
              "      <td>1.000000</td>\n",
              "    </tr>\n",
              "  </tbody>\n",
              "</table>\n",
              "</div>"
            ],
            "text/plain": [
              "                Age           Sex      HighChol     CholCheck           BMI  \\\n",
              "count  70692.000000  70692.000000  70692.000000  70692.000000  70692.000000   \n",
              "mean       8.584055      0.456997      0.525703      0.975259     29.856985   \n",
              "std        2.852153      0.498151      0.499342      0.155336      7.113954   \n",
              "min        1.000000      0.000000      0.000000      0.000000     12.000000   \n",
              "25%        7.000000      0.000000      0.000000      1.000000     25.000000   \n",
              "50%        9.000000      0.000000      1.000000      1.000000     29.000000   \n",
              "75%       11.000000      1.000000      1.000000      1.000000     33.000000   \n",
              "max       13.000000      1.000000      1.000000      1.000000     98.000000   \n",
              "\n",
              "             Smoker  HeartDiseaseorAttack  PhysActivity        Fruits  \\\n",
              "count  70692.000000          70692.000000  70692.000000  70692.000000   \n",
              "mean       0.475273              0.147810      0.703036      0.611795   \n",
              "std        0.499392              0.354914      0.456924      0.487345   \n",
              "min        0.000000              0.000000      0.000000      0.000000   \n",
              "25%        0.000000              0.000000      0.000000      0.000000   \n",
              "50%        0.000000              0.000000      1.000000      1.000000   \n",
              "75%        1.000000              0.000000      1.000000      1.000000   \n",
              "max        1.000000              1.000000      1.000000      1.000000   \n",
              "\n",
              "            Veggies  HvyAlcoholConsump       GenHlth      MentHlth  \\\n",
              "count  70692.000000       70692.000000  70692.000000  70692.000000   \n",
              "mean       0.788774           0.042721      2.837082      3.752037   \n",
              "std        0.408181           0.202228      1.113565      8.155627   \n",
              "min        0.000000           0.000000      1.000000      0.000000   \n",
              "25%        1.000000           0.000000      2.000000      0.000000   \n",
              "50%        1.000000           0.000000      3.000000      0.000000   \n",
              "75%        1.000000           0.000000      4.000000      2.000000   \n",
              "max        1.000000           1.000000      5.000000     30.000000   \n",
              "\n",
              "           PhysHlth      DiffWalk        Stroke        HighBP      Diabetes  \n",
              "count  70692.000000  70692.000000  70692.000000  70692.000000  70692.000000  \n",
              "mean       5.810417      0.252730      0.062171      0.563458      0.500000  \n",
              "std       10.062261      0.434581      0.241468      0.495960      0.500004  \n",
              "min        0.000000      0.000000      0.000000      0.000000      0.000000  \n",
              "25%        0.000000      0.000000      0.000000      0.000000      0.000000  \n",
              "50%        0.000000      0.000000      0.000000      1.000000      0.500000  \n",
              "75%        6.000000      1.000000      0.000000      1.000000      1.000000  \n",
              "max       30.000000      1.000000      1.000000      1.000000      1.000000  "
            ]
          },
          "execution_count": 9,
          "metadata": {},
          "output_type": "execute_result"
        }
      ],
      "source": [
        "df.describe()"
      ]
    },
    {
      "cell_type": "markdown",
      "metadata": {},
      "source": [
        "De ``df.describe`` se evidencia que las variables ``Age``, ``GenHlthm``, ``MenHlth``, ``PhysHlth`` no se encuetran normalizadas. Esta hetereogenidad puede producir un sesgo en modelos basados en distancia que sobreestimen la influencia de estas variables. Se decide aplicar ``StandardScaler`` sobre estas variables. En ``df.info`` se confirma que no existen valores nulos, por tanto no es necesario aplicar técnicas de imputación de datos."
      ]
    },
    {
      "cell_type": "code",
      "execution_count": 11,
      "metadata": {},
      "outputs": [],
      "source": [
        "from sklearn import set_config\n",
        "set_config(transform_output=\"pandas\") # to display the output as a pandas dataframe"
      ]
    },
    {
      "cell_type": "code",
      "execution_count": 12,
      "metadata": {},
      "outputs": [],
      "source": [
        "from re import X\n",
        "from sklearn.model_selection import train_test_split\n",
        "\n",
        "X = df.drop(columns=['Diabetes'])\n",
        "y = df['Diabetes']\n",
        "\n",
        "X_train, X_test, y_train, y_test = train_test_split(X, y, test_size=0.33, random_state=42)"
      ]
    },
    {
      "cell_type": "code",
      "execution_count": null,
      "metadata": {},
      "outputs": [
        {
          "name": "stdout",
          "output_type": "stream",
          "text": [
            "\n",
            "Proporciones finales:\n",
            "Train: 67.0%\n",
            "Test: 33.0%\n"
          ]
        },
        {
          "data": {
            "text/plain": [
              "Diabetes\n",
              "0.0    0.5\n",
              "1.0    0.5\n",
              "Name: proportion, dtype: float64"
            ]
          },
          "execution_count": 16,
          "metadata": {},
          "output_type": "execute_result"
        }
      ],
      "source": [
        "# Verificación de proporciones\n",
        "print(\"\\nProporciones finales:\")\n",
        "print(f\"Train: {len(X_train)/len(X):.1%}\")\n",
        "print(f\"Test: {len(X_test)/len(X):.1%}\")\n",
        "\n",
        "# undersampling/oversampling\n",
        "y.value_counts(normalize=True)"
      ]
    },
    {
      "cell_type": "markdown",
      "metadata": {},
      "source": [
        "En el paso anterior se verificó que la división de los datos entre los conjuntos de entrenamiento y prueba cumpliera la proporción requerida de 1:3. Adicionalmente, se confirmó que el balance de clases fuera similar en ambos conjuntos, específicamente con una relación 1:1. Este último paso es crucial para validar el entrenamiento de un modelo insesgado y métricas representativas."
      ]
    },
    {
      "cell_type": "code",
      "execution_count": 23,
      "metadata": {},
      "outputs": [
        {
          "data": {
            "text/plain": [
              "Index(['Age', 'Sex', 'HighChol', 'CholCheck', 'BMI', 'Smoker',\n",
              "       'HeartDiseaseorAttack', 'PhysActivity', 'Fruits', 'Veggies',\n",
              "       'HvyAlcoholConsump', 'GenHlth', 'MentHlth', 'PhysHlth', 'DiffWalk',\n",
              "       'Stroke', 'HighBP', 'Diabetes'],\n",
              "      dtype='object')"
            ]
          },
          "execution_count": 23,
          "metadata": {},
          "output_type": "execute_result"
        }
      ],
      "source": [
        "df.columns"
      ]
    },
    {
      "cell_type": "code",
      "execution_count": 24,
      "metadata": {},
      "outputs": [],
      "source": [
        "from tabnanny import verbose\n",
        "from sklearn.compose import ColumnTransformer\n",
        "from sklearn.preprocessing import StandardScaler\n",
        "\n",
        "norm_columns = ['Age', 'GenHlth', 'MentHlth', 'PhysHlth']\n",
        "\n",
        "preprocessor = ColumnTransformer(\n",
        "    transformers=[\n",
        "        ('num', StandardScaler(), norm_columns),\n",
        "    ],\n",
        "    remainder='passthrough',\n",
        "    verbose_feature_names_out=False,\n",
        ").set_output(transform=\"pandas\")\n"
      ]
    },
    {
      "cell_type": "code",
      "execution_count": 33,
      "metadata": {},
      "outputs": [
        {
          "data": {
            "text/plain": [
              "array([1, 1, 0, ..., 0, 1, 0])"
            ]
          },
          "execution_count": 33,
          "metadata": {},
          "output_type": "execute_result"
        }
      ],
      "source": [
        "from sklearn.pipeline import Pipeline\n",
        "from xgboost import XGBClassifier\n",
        "\n",
        "#XGboost\n",
        "model_pipeline = Pipeline(steps=[\n",
        "    ('preprocessor', preprocessor),\n",
        "    ('model', XGBClassifier()),    \n",
        "])\n",
        "model_pipeline.fit(X_train, y_train)\n",
        "y_pred = model_pipeline.predict(X_test)\n",
        "y_pred"
      ]
    },
    {
      "cell_type": "code",
      "execution_count": 35,
      "metadata": {},
      "outputs": [
        {
          "name": "stdout",
          "output_type": "stream",
          "text": [
            "              precision    recall  f1-score   support\n",
            "\n",
            "         0.0       0.77      0.71      0.74     11651\n",
            "         1.0       0.73      0.79      0.76     11678\n",
            "\n",
            "    accuracy                           0.75     23329\n",
            "   macro avg       0.75      0.75      0.75     23329\n",
            "weighted avg       0.75      0.75      0.75     23329\n",
            "\n"
          ]
        }
      ],
      "source": [
        "#classifier report\n",
        "from sklearn.metrics import classification_report\n",
        "print(classification_report(y_test, y_pred))"
      ]
    },
    {
      "cell_type": "markdown",
      "metadata": {},
      "source": [
        "2. Luego, le pide responder las siguientes preguntas:\n",
        "  *  ¿Es acaso un buen predictor de diabetes? (0.5 puntos)\n",
        "  * ¿Qué buscan explicar las métricas utilizadas? (0.5 puntos)\n",
        "  * ¿Las métricas utilizadas para medir la predictibilidad le permiten asegurar que su modelo haga una buena elección de las features?(0.5 puntos)\n",
        "\n",
        "**Respuestas:**\n",
        "* El modelo ``XGBClassifier`` entrega un F1-score, el cual corresponde a la media armónica de precision/recall suficiente de 0.75, siendo esta una primera aproximación de la solución, pero que aun deja margen de mejora.\n",
        "\n",
        "* La funcion `classification_report` entrega métricas de desmpeño claves:\n",
        "  * ``Precision``: Indica, de todos los pacientes que el modelo predijo con diabetes, qué proporción realmente tenía la enfermedad.\n",
        "  * ``Recall``: Mide, del total de pacientes que realmente tenían diabetes, qué proporción fue correctamente identificada por el modelo.\n",
        "  * ``F1-score``: Ofrece una visión balanceada entre precisión y recall a través de su media armónica, útil para evaluar el compromiso entre ambos.\n",
        "  * ``Support``: Muestra el número de ocurrencias reales de cada clase en el conjunto de prueba.\n",
        "\n",
        "* Las métricas utilizadas buscan evaluar el rendimiento o calidad de las predicciones del modelo, pero no dice nada de la influencia de las variables sobre el valor predicho. Por tanto no se puede asegurar que se hayan escogido las mejores features. Es necesario acoplar otros metodos que entregan mayor interpretabilidad y relación entre las variables de entrada y el valor predicho.  \n"
      ]
    },
    {
      "cell_type": "markdown",
      "metadata": {
        "cell_id": "58111a309a0c4aafb323c62c03b9b1d0",
        "deepnote_cell_type": "markdown",
        "id": "FzYGpPhmQy7P"
      },
      "source": [
        "## 3. Importancia de las features con XGBoost (5 puntos)\n",
        "\n",
        "<p align=\"center\">\n",
        "  <img src=\"https://media.tenor.com/5JAj5_IiagEAAAAd/dr-simi-dr-simi-dance.gif\" width=\"400\">\n",
        "</p>"
      ]
    },
    {
      "cell_type": "markdown",
      "metadata": {
        "cell_id": "5e0707b14bbd4ed7b4646cba8e7e53cc",
        "deepnote_cell_type": "markdown",
        "id": "jUT2mC5qQy7Q"
      },
      "source": [
        "Tareas:\n",
        "1. Para añadir el toque de interpretabilidad que Dr. Simi le pide, se le pide calcular la **importancia de las features** del modelo entrenado utilizando todos los métodos (*weight*, *cover*, *gain*) que posee xgboost usando `plot_importance`. `Hint:` Puede acceder a un paso de un pipeline por su nombre mediante el método `.named_steps[...]` (3 puntos)\n",
        "2. ¿Los resultados obtenidos con los diferentes métodos son compatibles?, comente sus resultados y a que se debe la igualdad o desigualdad que ve en los resultados. (1 punto)\n",
        "3. Finalmente, ¿las importancias obtenidas son suficientes para obtener la interpretabilidad de un modelo que utiliza árboles? ¿Qué debilidad presenta este método? (1 punto)"
      ]
    },
    {
      "cell_type": "code",
      "execution_count": null,
      "metadata": {
        "cell_id": "32be9645ac03408b98705d22def41265",
        "deepnote_cell_type": "code",
        "deepnote_to_be_reexecuted": false,
        "execution_millis": 2,
        "execution_start": 1686930815998,
        "id": "XVUR5s2jQy7Q",
        "source_hash": "553ccab0"
      },
      "outputs": [],
      "source": [
        "# Inserte su código aquí"
      ]
    },
    {
      "cell_type": "markdown",
      "metadata": {
        "cell_id": "37e42da05d404e6988e5cb213124d1a2",
        "deepnote_cell_type": "markdown",
        "id": "cB8wXvM3Qy7Q"
      },
      "source": [
        "## 4. Métodos Agnósticos Globales (10 puntos)\n",
        "\n",
        "<p align=\"center\">\n",
        "  <img src=\"https://media.tenor.com/JcRHtjVuXN8AAAAC/dr-simi-farmacias-similares.gif\" width=\"400\">\n",
        "</p>"
      ]
    },
    {
      "cell_type": "markdown",
      "metadata": {
        "cell_id": "2a5763d9e5744d4fb2a5b8c0478b67fd",
        "deepnote_cell_type": "markdown",
        "id": "sDQNwSSqQy7Q"
      },
      "source": [
        "Tareas:\n",
        "1. Para mitigar los problemas encontrados en la sección anterior, Dr. Simi le pide implementar un **método de permutación** que le permita observar la importancia de las features. `Nota:`Tenga cuidado con el orden de las columnas de este método. `Hint:` Puede obtener los features del clasificador con su respectivo orden mediante el método `.get_booster().feature_names` (2 puntos)\n",
        "2. Para que su modelo sea consistente, repita el proceso **30 veces** y verifique la desviación estándar de sus resultados (¿Qué señala esta?). (2 puntos)\n",
        "3. Visualice los resultados de este método en un gráfico. (2 puntos)\n",
        "4. Además, responda las siguientes preguntas:\n",
        "  - ¿Cómo mide la importancia de las features su propuesta? (1 punto)\n",
        "  - ¿Qué features tienen un mayor impacto en la salida del modelo?. Comente las 5 primeras, ¿tienen sentido? (1 punto)\n",
        "  - ¿Cómo cambian sus conclusiones con respecto a las features importances del punto anterior? (1 punto)\n",
        "  - Nombre y explique 3 ventajas y 3 desventajas del método implementado. (1 punto)"
      ]
    },
    {
      "cell_type": "code",
      "execution_count": null,
      "metadata": {
        "cell_id": "83032f5e2894423dbafa952e1d3f89cb",
        "deepnote_cell_type": "code",
        "deepnote_to_be_reexecuted": false,
        "execution_millis": 43036,
        "execution_start": 1686882223141,
        "id": "gpug7RLgQy7Q",
        "source_hash": "c8f2357f"
      },
      "outputs": [],
      "source": [
        "# Inserte su código aquí"
      ]
    },
    {
      "cell_type": "markdown",
      "metadata": {
        "cell_id": "bd24642fe85143b9bcdae0607e0bb2f6",
        "deepnote_cell_type": "markdown",
        "id": "4lR52BoIQy7R"
      },
      "source": [
        "## 5. Métodos Agnósticos Locales (20 puntos)\n",
        "\n",
        "<p align=\"center\">\n",
        "  <img src=\"https://i.makeagif.com/media/10-24-2024/oMCrLI.gif\" width=\"400\">\n",
        "</p>"
      ]
    },
    {
      "cell_type": "markdown",
      "metadata": {
        "cell_id": "feffba3234c9428abbc9f7db957c5b64",
        "deepnote_cell_type": "markdown",
        "id": "NTeHLX8GQy7R"
      },
      "source": [
        "### 5.1 Calculando Shap Values (4 puntos)"
      ]
    },
    {
      "cell_type": "markdown",
      "metadata": {
        "cell_id": "3dd06a63b4b045c1ab3e51ac01e0fbc0",
        "deepnote_cell_type": "markdown",
        "id": "81G7bX8PQy7R"
      },
      "source": [
        "Tareas:\n",
        "1. Alegre por saber cómo funciona el modelo de predicción a nivel general, Dr. Simi le pide ahora interpretar las predicciones de su modelo a nivel de paciente (es decir, desde un punto de vista **local**). Para esto, el ilustre farmacéutico le pide calcular los *shap values* de su modelo. (2 puntos)\n",
        "2. ¿Qué representa cada número en su resultado? (1 punto)\n",
        "3. ¿Es posible atribuir un significado a la positividad/negatividad de cada valor? (1 punto)"
      ]
    },
    {
      "cell_type": "code",
      "execution_count": null,
      "metadata": {
        "cell_id": "dada61becc854fe4830665a1e1fcfb8b",
        "deepnote_cell_type": "code",
        "deepnote_to_be_reexecuted": false,
        "execution_millis": 7982,
        "execution_start": 1686925464848,
        "id": "cahAA22RQy7R",
        "outputId": "fceb6b7c-f4c4-45da-841f-df8361edc65c",
        "source_hash": "5d97bad"
      },
      "outputs": [
        {
          "name": "stdout",
          "output_type": "stream",
          "text": [
            "Collecting shap\n",
            "  Downloading shap-0.41.0-cp310-cp310-manylinux_2_12_x86_64.manylinux2010_x86_64.whl (572 kB)\n",
            "\u001b[2K     \u001b[90m━━━━━━━━━━━━━━━━━━━━━━━━━━━━━━━━━━━━━━\u001b[0m \u001b[32m572.6/572.6 kB\u001b[0m \u001b[31m62.8 MB/s\u001b[0m eta \u001b[36m0:00:00\u001b[0m\n",
            "\u001b[?25hRequirement already satisfied: packaging>20.9 in /shared-libs/python3.10/py-core/lib/python3.10/site-packages (from shap) (21.3)\n",
            "Requirement already satisfied: pandas in /shared-libs/python3.10/py/lib/python3.10/site-packages (from shap) (1.2.5)\n",
            "Requirement already satisfied: tqdm>4.25.0 in /shared-libs/python3.10/py/lib/python3.10/site-packages (from shap) (4.64.1)\n",
            "Collecting slicer==0.0.7\n",
            "  Downloading slicer-0.0.7-py3-none-any.whl (14 kB)\n",
            "Collecting numba\n",
            "  Downloading numba-0.57.0-cp310-cp310-manylinux2014_x86_64.manylinux_2_17_x86_64.whl (3.6 MB)\n",
            "\u001b[2K     \u001b[90m━━━━━━━━━━━━━━━━━━━━━━━━━━━━━━━━━━━━━━━━\u001b[0m \u001b[32m3.6/3.6 MB\u001b[0m \u001b[31m85.7 MB/s\u001b[0m eta \u001b[36m0:00:00\u001b[0m\n",
            "\u001b[?25hCollecting cloudpickle\n",
            "  Downloading cloudpickle-2.2.1-py3-none-any.whl (25 kB)\n",
            "Requirement already satisfied: numpy in /shared-libs/python3.10/py/lib/python3.10/site-packages (from shap) (1.23.4)\n",
            "Requirement already satisfied: scikit-learn in /shared-libs/python3.10/py/lib/python3.10/site-packages (from shap) (1.1.2)\n",
            "Requirement already satisfied: scipy in /shared-libs/python3.10/py/lib/python3.10/site-packages (from shap) (1.9.3)\n",
            "Requirement already satisfied: pyparsing!=3.0.5,>=2.0.2 in /shared-libs/python3.10/py-core/lib/python3.10/site-packages (from packaging>20.9->shap) (3.0.9)\n",
            "Collecting llvmlite<0.41,>=0.40.0dev0\n",
            "  Downloading llvmlite-0.40.1rc1-cp310-cp310-manylinux_2_17_x86_64.manylinux2014_x86_64.whl (42.1 MB)\n",
            "\u001b[2K     \u001b[90m━━━━━━━━━━━━━━━━━━━━━━━━━━━━━━━━━━━━━━━━\u001b[0m \u001b[32m42.1/42.1 MB\u001b[0m \u001b[31m38.1 MB/s\u001b[0m eta \u001b[36m0:00:00\u001b[0m\n",
            "\u001b[?25hRequirement already satisfied: pytz>=2017.3 in /shared-libs/python3.10/py/lib/python3.10/site-packages (from pandas->shap) (2022.5)\n",
            "Requirement already satisfied: python-dateutil>=2.7.3 in /shared-libs/python3.10/py-core/lib/python3.10/site-packages (from pandas->shap) (2.8.2)\n",
            "Requirement already satisfied: threadpoolctl>=2.0.0 in /shared-libs/python3.10/py/lib/python3.10/site-packages (from scikit-learn->shap) (3.1.0)\n",
            "Requirement already satisfied: joblib>=1.0.0 in /shared-libs/python3.10/py/lib/python3.10/site-packages (from scikit-learn->shap) (1.2.0)\n",
            "Requirement already satisfied: six>=1.5 in /shared-libs/python3.10/py-core/lib/python3.10/site-packages (from python-dateutil>=2.7.3->pandas->shap) (1.16.0)\n",
            "Installing collected packages: slicer, llvmlite, cloudpickle, numba, shap\n",
            "Successfully installed cloudpickle-2.2.1 llvmlite-0.40.1rc1 numba-0.57.0 shap-0.41.0 slicer-0.0.7\n",
            "\n",
            "\u001b[1m[\u001b[0m\u001b[34;49mnotice\u001b[0m\u001b[1;39;49m]\u001b[0m\u001b[39;49m A new release of pip is available: \u001b[0m\u001b[31;49m23.0.1\u001b[0m\u001b[39;49m -> \u001b[0m\u001b[32;49m23.1.2\u001b[0m\n",
            "\u001b[1m[\u001b[0m\u001b[34;49mnotice\u001b[0m\u001b[1;39;49m]\u001b[0m\u001b[39;49m To update, run: \u001b[0m\u001b[32;49mpip install --upgrade pip\u001b[0m\n"
          ]
        }
      ],
      "source": [
        "!pip install shap"
      ]
    },
    {
      "cell_type": "code",
      "execution_count": null,
      "metadata": {
        "cell_id": "c2d01e18bb9946579275006ac63f29f8",
        "deepnote_cell_type": "code",
        "deepnote_to_be_reexecuted": false,
        "execution_millis": 2,
        "execution_start": 1686884837621,
        "id": "S7bjY7XmQy7R",
        "source_hash": "7220fd12"
      },
      "outputs": [],
      "source": [
        "import warnings\n",
        "warnings.filterwarnings(\"ignore\", message=\".*The 'nopython' keyword.*\")"
      ]
    },
    {
      "cell_type": "code",
      "execution_count": null,
      "metadata": {
        "cell_id": "28773926243a4632adf4ebe7f9b23c86",
        "deepnote_cell_type": "code",
        "deepnote_to_be_reexecuted": false,
        "execution_millis": 3,
        "execution_start": 1686930931899,
        "id": "1MLhkQu0Qy7S",
        "source_hash": "7b093107"
      },
      "outputs": [],
      "source": [
        "# Inserte código para calcular shapley values aquí"
      ]
    },
    {
      "cell_type": "markdown",
      "metadata": {
        "cell_id": "ca1ccbeae2b2444d925329e0fd1c7bff",
        "deepnote_cell_type": "markdown",
        "id": "4aGmOtVPQy7S"
      },
      "source": [
        "### 5.2 Aporte local (4 puntos)"
      ]
    },
    {
      "cell_type": "markdown",
      "metadata": {
        "cell_id": "d1bd38afb30a418dad4d5229826459a3",
        "deepnote_cell_type": "markdown",
        "id": "-ucDyFmWQy7S"
      },
      "source": [
        "1. Usando los *shap values* calculados, grafique el **aporte local** de las diferentes variables para las instancias **1**, **9** y **150** (1 punto).\n",
        "\n",
        "2. Interprete sus resultados y responda:\n",
        "\n",
        "  - ¿Qué variables afectan de manera positiva/negativa a la probabilidad de poseer diabetes? (1 punto)\n",
        "\n",
        "  - ¿Existe algún patrón común entre las instancias analizadas? (1 punto)\n",
        "\n",
        "  - ¿Es posible generalizar estas conclusiones a todo el dataset? (1 punto)"
      ]
    },
    {
      "cell_type": "code",
      "execution_count": null,
      "metadata": {
        "cell_id": "114ead8d9d674348a6eb462b83e54f0b",
        "deepnote_cell_type": "code",
        "deepnote_to_be_reexecuted": false,
        "execution_millis": 2,
        "execution_start": 1686930940135,
        "id": "pFfuO9JqQy7S",
        "source_hash": "5f8720eb"
      },
      "outputs": [],
      "source": [
        "# Inserte código para generar gráficos de aporte local aquí"
      ]
    },
    {
      "cell_type": "markdown",
      "metadata": {
        "cell_id": "717f41e3ccf143a483af4f350e510225",
        "deepnote_cell_type": "markdown",
        "id": "z34Bo3nuQy7T"
      },
      "source": [
        "### 5.3 Aporte global (4 puntos)"
      ]
    },
    {
      "cell_type": "markdown",
      "metadata": {
        "cell_id": "691dfe735fa644d5a8cac6e7053621ce",
        "deepnote_cell_type": "markdown",
        "id": "_-F3drm-Qy7T"
      },
      "source": [
        "Genere ahora una visualización donde se grafique el aporte de cada feature a nivel **global** e interprete sus resultados. ¿Qué diferencias existen con las conclusiones generadas a nivel de instancia?"
      ]
    },
    {
      "cell_type": "code",
      "execution_count": null,
      "metadata": {
        "cell_id": "54e88d349b7c476d82a95b977ce23fd4",
        "deepnote_cell_type": "code",
        "deepnote_to_be_reexecuted": false,
        "execution_millis": 4,
        "execution_start": 1686930956967,
        "id": "1cBZnPHHQy7T",
        "source_hash": "99e7a96a"
      },
      "outputs": [],
      "source": [
        "# Inserte código para generar gráficos de aporte global aquí"
      ]
    },
    {
      "cell_type": "markdown",
      "metadata": {
        "cell_id": "8c6e3e238a6c48719cd048ce9e5201d5",
        "deepnote_cell_type": "markdown",
        "id": "Vk7B9zHoQy7T"
      },
      "source": [
        "### 5.4 Scatter plot (4 puntos)\n"
      ]
    },
    {
      "cell_type": "markdown",
      "metadata": {
        "cell_id": "4cfe79b39ac646658225180063391369",
        "deepnote_cell_type": "markdown",
        "id": "b9RX6vCiQy7U"
      },
      "source": [
        "Grafique ahora un *scatterplot* entre los *shap values* y las primeras 5 features con mayor impacto global (un gráfico por cada feature), coloreando cada punto por la probabilidad de tener diabetes. ¿Qué puede concluir de sus resultados?"
      ]
    },
    {
      "cell_type": "code",
      "execution_count": null,
      "metadata": {
        "cell_id": "fe980bf5ee9c4cda84cb87db6e6f41dd",
        "deepnote_cell_type": "code",
        "deepnote_to_be_reexecuted": false,
        "execution_millis": 2,
        "execution_start": 1686930965534,
        "id": "lRlG8s2dQy7U",
        "source_hash": "80c98595"
      },
      "outputs": [],
      "source": [
        "# Inserte código para generar gráficos de feature vs shap value aquí"
      ]
    },
    {
      "cell_type": "markdown",
      "metadata": {
        "cell_id": "4204ce61132f4a91b465bd1324668ec4",
        "deepnote_cell_type": "markdown",
        "id": "724u-ijOQy7U"
      },
      "source": [
        "### 5.5 Partial Dependence Plot (4 puntos)"
      ]
    },
    {
      "cell_type": "markdown",
      "metadata": {
        "id": "SJBXLAR3HWhl"
      },
      "source": [
        "Finalmente, se le pide generar un gráfico del tipo Partial Dependence Plot para las mismas 5 variables con mayor impacto global usando una submuestra de 1000 observaciones. ¿Qué relación existe entre la salida promedio del modelo y cada feature analizada? ¿Son estas conclusiones generalizables para todo el conjunto de datos?"
      ]
    },
    {
      "cell_type": "code",
      "execution_count": null,
      "metadata": {
        "cell_id": "fe7a7b2e6f664d129fee9f64dd57f6bd",
        "deepnote_cell_type": "code",
        "deepnote_to_be_reexecuted": false,
        "execution_millis": 4,
        "execution_start": 1686930977674,
        "id": "tHKM8KHtQy7U",
        "source_hash": "4e0f176b"
      },
      "outputs": [],
      "source": [
        "# Inserte código para generar gráficos PDP aquí"
      ]
    },
    {
      "cell_type": "markdown",
      "metadata": {
        "cell_id": "22e4da384e83491e8e7c8dc9b875ad6b",
        "deepnote_cell_type": "markdown",
        "id": "i4tFPrFA4_O5"
      },
      "source": [
        "## 6. Sistema de Reglas! (10 punto)\n",
        "\n",
        "<p align=\"center\">\n",
        "  <img src=\"https://media.baamboozle.com/uploads/images/125978/1638281150_1380186_gif-url.gif\" width=\"400\">\n",
        "</p>"
      ]
    },
    {
      "cell_type": "markdown",
      "metadata": {
        "cell_id": "cbf4bdc66df14a948ee275be86501d4a",
        "deepnote_cell_type": "markdown",
        "id": "f_4NF0_V5XZ-"
      },
      "source": [
        "Después de todo el trabajo hecho, Dr. Simi le pide simplificar el funcionamiento de su modelo en un sistema de reglas que le permita explicar a sus clientes las predicciones que genera su modelo.\n",
        "En particular, Dr. Simi le pide explicar la decisión tomada para las observaciones **1000**, **3001** y **5751**. Con las reglas propuestas señale a **cuánta población** es posible explicar con estas reglas e indique la **precisión** que poseen las reglas en la totalidad de los datos. ¿Tienen sentido sus reglas propuestas para las observaciones?. Fundamente sus respuesta señalando el impacto que tienen sus reglas sobre todo el conjunto de datos.\n",
        "\n",
        "`Hint:` Como debe entregar las columnas que entran al clasificador entrenado de su pipeline, le será útil extraer el paso de preprocesamiento y generar dataframes preprocesados para el conjunto `train` y `test`."
      ]
    },
    {
      "cell_type": "code",
      "execution_count": null,
      "metadata": {
        "cell_id": "9e3327e11a104dd5917f594a5e10baee",
        "deepnote_cell_type": "code",
        "deepnote_to_be_reexecuted": false,
        "execution_millis": 21693,
        "execution_start": 1686885552805,
        "id": "arJkVfO9Qy7b",
        "outputId": "7bd03366-c005-4bb8-86ab-d60f4abb26cd",
        "source_hash": "e7a6b6c4",
        "tags": []
      },
      "outputs": [
        {
          "name": "stdout",
          "output_type": "stream",
          "text": [
            "Collecting alibi\n",
            "  Downloading alibi-0.9.2-py3-none-any.whl (524 kB)\n",
            "\u001b[2K     \u001b[90m━━━━━━━━━━━━━━━━━━━━━━━━━━━━━━━━━━━━━━\u001b[0m \u001b[32m524.2/524.2 kB\u001b[0m \u001b[31m29.8 MB/s\u001b[0m eta \u001b[36m0:00:00\u001b[0m\n",
            "\u001b[?25hRequirement already satisfied: spacy[lookups]<4.0.0,>=2.0.0 in /shared-libs/python3.10/py/lib/python3.10/site-packages (from alibi) (3.4.2)\n",
            "Requirement already satisfied: scipy<2.0.0,>=1.1.0 in /shared-libs/python3.10/py/lib/python3.10/site-packages (from alibi) (1.9.3)\n",
            "Collecting scikit-image<0.21,>=0.17.2\n",
            "  Downloading scikit_image-0.20.0-cp310-cp310-manylinux_2_17_x86_64.manylinux2014_x86_64.whl (13.2 MB)\n",
            "\u001b[2K     \u001b[90m━━━━━━━━━━━━━━━━━━━━━━━━━━━━━━━━━━━━━━━━\u001b[0m \u001b[32m13.2/13.2 MB\u001b[0m \u001b[31m67.8 MB/s\u001b[0m eta \u001b[36m0:00:00\u001b[0m\n",
            "\u001b[?25hRequirement already satisfied: blis<0.8.0 in /shared-libs/python3.10/py/lib/python3.10/site-packages (from alibi) (0.7.9)\n",
            "Requirement already satisfied: tqdm<5.0.0,>=4.28.1 in /shared-libs/python3.10/py/lib/python3.10/site-packages (from alibi) (4.64.1)\n",
            "Requirement already satisfied: Pillow<10.0,>=5.4.1 in /shared-libs/python3.10/py/lib/python3.10/site-packages (from alibi) (9.2.0)\n",
            "Requirement already satisfied: typing-extensions>=3.7.4.3 in /shared-libs/python3.10/py/lib/python3.10/site-packages (from alibi) (4.4.0)\n",
            "Requirement already satisfied: dill<0.4.0,>=0.3.0 in /shared-libs/python3.10/py/lib/python3.10/site-packages (from alibi) (0.3.5.1)\n",
            "Requirement already satisfied: requests<3.0.0,>=2.21.0 in /shared-libs/python3.10/py/lib/python3.10/site-packages (from alibi) (2.28.1)\n",
            "Requirement already satisfied: matplotlib<4.0.0,>=3.0.0 in /shared-libs/python3.10/py/lib/python3.10/site-packages (from alibi) (3.6.0)\n",
            "Requirement already satisfied: pandas<3.0.0,>=1.0.0 in /shared-libs/python3.10/py/lib/python3.10/site-packages (from alibi) (1.2.5)\n",
            "Requirement already satisfied: scikit-learn<2.0.0,>=1.0.0 in /shared-libs/python3.10/py/lib/python3.10/site-packages (from alibi) (1.1.2)\n",
            "Requirement already satisfied: numpy<2.0.0,>=1.16.2 in /shared-libs/python3.10/py/lib/python3.10/site-packages (from alibi) (1.23.4)\n",
            "Collecting transformers<5.0.0,>=4.7.0\n",
            "  Downloading transformers-4.30.2-py3-none-any.whl (7.2 MB)\n",
            "\u001b[2K     \u001b[90m━━━━━━━━━━━━━━━━━━━━━━━━━━━━━━━━━━━━━━━━\u001b[0m \u001b[32m7.2/7.2 MB\u001b[0m \u001b[31m85.6 MB/s\u001b[0m eta \u001b[36m0:00:00\u001b[0m\n",
            "\u001b[?25hRequirement already satisfied: attrs<24.0.0,>=19.2.0 in /shared-libs/python3.10/py-core/lib/python3.10/site-packages (from alibi) (22.1.0)\n",
            "Requirement already satisfied: fonttools>=4.22.0 in /shared-libs/python3.10/py/lib/python3.10/site-packages (from matplotlib<4.0.0,>=3.0.0->alibi) (4.37.4)\n",
            "Requirement already satisfied: kiwisolver>=1.0.1 in /shared-libs/python3.10/py/lib/python3.10/site-packages (from matplotlib<4.0.0,>=3.0.0->alibi) (1.4.4)\n",
            "Requirement already satisfied: cycler>=0.10 in /shared-libs/python3.10/py/lib/python3.10/site-packages (from matplotlib<4.0.0,>=3.0.0->alibi) (0.11.0)\n",
            "Requirement already satisfied: pyparsing>=2.2.1 in /shared-libs/python3.10/py-core/lib/python3.10/site-packages (from matplotlib<4.0.0,>=3.0.0->alibi) (3.0.9)\n",
            "Requirement already satisfied: contourpy>=1.0.1 in /shared-libs/python3.10/py/lib/python3.10/site-packages (from matplotlib<4.0.0,>=3.0.0->alibi) (1.0.5)\n",
            "Requirement already satisfied: packaging>=20.0 in /shared-libs/python3.10/py-core/lib/python3.10/site-packages (from matplotlib<4.0.0,>=3.0.0->alibi) (21.3)\n",
            "Requirement already satisfied: python-dateutil>=2.7 in /shared-libs/python3.10/py-core/lib/python3.10/site-packages (from matplotlib<4.0.0,>=3.0.0->alibi) (2.8.2)\n",
            "Requirement already satisfied: pytz>=2017.3 in /shared-libs/python3.10/py/lib/python3.10/site-packages (from pandas<3.0.0,>=1.0.0->alibi) (2022.5)\n",
            "Requirement already satisfied: idna<4,>=2.5 in /shared-libs/python3.10/py-core/lib/python3.10/site-packages (from requests<3.0.0,>=2.21.0->alibi) (3.4)\n",
            "Requirement already satisfied: charset-normalizer<3,>=2 in /shared-libs/python3.10/py-core/lib/python3.10/site-packages (from requests<3.0.0,>=2.21.0->alibi) (2.1.1)\n",
            "Requirement already satisfied: urllib3<1.27,>=1.21.1 in /shared-libs/python3.10/py/lib/python3.10/site-packages (from requests<3.0.0,>=2.21.0->alibi) (1.26.12)\n",
            "Requirement already satisfied: certifi>=2017.4.17 in /shared-libs/python3.10/py/lib/python3.10/site-packages (from requests<3.0.0,>=2.21.0->alibi) (2022.9.24)\n",
            "Collecting imageio>=2.4.1\n",
            "  Downloading imageio-2.31.1-py3-none-any.whl (313 kB)\n",
            "\u001b[2K     \u001b[90m━━━━━━━━━━━━━━━━━━━━━━━━━━━━━━━━━━━━━━\u001b[0m \u001b[32m313.2/313.2 kB\u001b[0m \u001b[31m50.2 MB/s\u001b[0m eta \u001b[36m0:00:00\u001b[0m\n",
            "\u001b[?25hCollecting tifffile>=2019.7.26\n",
            "  Downloading tifffile-2023.4.12-py3-none-any.whl (219 kB)\n",
            "\u001b[2K     \u001b[90m━━━━━━━━━━━━━━━━━━━━━━━━━━━━━━━━━━━━━━\u001b[0m \u001b[32m219.4/219.4 kB\u001b[0m \u001b[31m33.7 MB/s\u001b[0m eta \u001b[36m0:00:00\u001b[0m\n",
            "\u001b[?25hCollecting lazy_loader>=0.1\n",
            "  Downloading lazy_loader-0.2-py3-none-any.whl (8.6 kB)\n",
            "Collecting networkx>=2.8\n",
            "  Downloading networkx-3.1-py3-none-any.whl (2.1 MB)\n",
            "\u001b[2K     \u001b[90m━━━━━━━━━━━━━━━━━━━━━━━━━━━━━━━━━━━━━━━━\u001b[0m \u001b[32m2.1/2.1 MB\u001b[0m \u001b[31m84.5 MB/s\u001b[0m eta \u001b[36m0:00:00\u001b[0m\n",
            "\u001b[?25hCollecting PyWavelets>=1.1.1\n",
            "  Downloading PyWavelets-1.4.1-cp310-cp310-manylinux_2_17_x86_64.manylinux2014_x86_64.whl (6.8 MB)\n",
            "\u001b[2K     \u001b[90m━━━━━━━━━━━━━━━━━━━━━━━━━━━━━━━━━━━━━━━━\u001b[0m \u001b[32m6.8/6.8 MB\u001b[0m \u001b[31m91.2 MB/s\u001b[0m eta \u001b[36m0:00:00\u001b[0m\n",
            "\u001b[?25hRequirement already satisfied: threadpoolctl>=2.0.0 in /shared-libs/python3.10/py/lib/python3.10/site-packages (from scikit-learn<2.0.0,>=1.0.0->alibi) (3.1.0)\n",
            "Requirement already satisfied: joblib>=1.0.0 in /shared-libs/python3.10/py/lib/python3.10/site-packages (from scikit-learn<2.0.0,>=1.0.0->alibi) (1.2.0)\n",
            "Requirement already satisfied: preshed<3.1.0,>=3.0.2 in /shared-libs/python3.10/py/lib/python3.10/site-packages (from spacy[lookups]<4.0.0,>=2.0.0->alibi) (3.0.8)\n",
            "Requirement already satisfied: catalogue<2.1.0,>=2.0.6 in /shared-libs/python3.10/py/lib/python3.10/site-packages (from spacy[lookups]<4.0.0,>=2.0.0->alibi) (2.0.8)\n",
            "Requirement already satisfied: spacy-legacy<3.1.0,>=3.0.10 in /shared-libs/python3.10/py/lib/python3.10/site-packages (from spacy[lookups]<4.0.0,>=2.0.0->alibi) (3.0.10)\n",
            "Requirement already satisfied: langcodes<4.0.0,>=3.2.0 in /shared-libs/python3.10/py/lib/python3.10/site-packages (from spacy[lookups]<4.0.0,>=2.0.0->alibi) (3.3.0)\n",
            "Requirement already satisfied: wasabi<1.1.0,>=0.9.1 in /shared-libs/python3.10/py/lib/python3.10/site-packages (from spacy[lookups]<4.0.0,>=2.0.0->alibi) (0.10.1)\n",
            "Requirement already satisfied: thinc<8.2.0,>=8.1.0 in /shared-libs/python3.10/py/lib/python3.10/site-packages (from spacy[lookups]<4.0.0,>=2.0.0->alibi) (8.1.5)\n",
            "Requirement already satisfied: srsly<3.0.0,>=2.4.3 in /shared-libs/python3.10/py/lib/python3.10/site-packages (from spacy[lookups]<4.0.0,>=2.0.0->alibi) (2.4.5)\n",
            "Requirement already satisfied: murmurhash<1.1.0,>=0.28.0 in /shared-libs/python3.10/py/lib/python3.10/site-packages (from spacy[lookups]<4.0.0,>=2.0.0->alibi) (1.0.9)\n",
            "Requirement already satisfied: pathy>=0.3.5 in /shared-libs/python3.10/py/lib/python3.10/site-packages (from spacy[lookups]<4.0.0,>=2.0.0->alibi) (0.6.2)\n",
            "Requirement already satisfied: spacy-loggers<2.0.0,>=1.0.0 in /shared-libs/python3.10/py/lib/python3.10/site-packages (from spacy[lookups]<4.0.0,>=2.0.0->alibi) (1.0.3)\n",
            "Requirement already satisfied: pydantic!=1.8,!=1.8.1,<1.11.0,>=1.7.4 in /shared-libs/python3.10/py/lib/python3.10/site-packages (from spacy[lookups]<4.0.0,>=2.0.0->alibi) (1.10.2)\n",
            "Requirement already satisfied: typer<0.5.0,>=0.3.0 in /shared-libs/python3.10/py/lib/python3.10/site-packages (from spacy[lookups]<4.0.0,>=2.0.0->alibi) (0.4.2)\n",
            "Requirement already satisfied: setuptools in /root/venv/lib/python3.10/site-packages (from spacy[lookups]<4.0.0,>=2.0.0->alibi) (65.5.0)\n",
            "Requirement already satisfied: cymem<2.1.0,>=2.0.2 in /shared-libs/python3.10/py/lib/python3.10/site-packages (from spacy[lookups]<4.0.0,>=2.0.0->alibi) (2.0.7)\n",
            "Requirement already satisfied: jinja2 in /shared-libs/python3.10/py-core/lib/python3.10/site-packages (from spacy[lookups]<4.0.0,>=2.0.0->alibi) (2.11.3)\n",
            "Collecting spacy-lookups-data<1.1.0,>=1.0.3\n",
            "  Downloading spacy_lookups_data-1.0.3-py2.py3-none-any.whl (98.5 MB)\n",
            "\u001b[2K     \u001b[90m━━━━━━━━━━━━━━━━━━━━━━━━━━━━━━━━━━━━━━━━\u001b[0m \u001b[32m98.5/98.5 MB\u001b[0m \u001b[31m19.9 MB/s\u001b[0m eta \u001b[36m0:00:00\u001b[0m\n",
            "\u001b[?25hRequirement already satisfied: filelock in /shared-libs/python3.10/py/lib/python3.10/site-packages (from transformers<5.0.0,>=4.7.0->alibi) (3.8.0)\n",
            "Collecting safetensors>=0.3.1\n",
            "  Downloading safetensors-0.3.1-cp310-cp310-manylinux_2_17_x86_64.manylinux2014_x86_64.whl (1.3 MB)\n",
            "\u001b[2K     \u001b[90m━━━━━━━━━━━━━━━━━━━━━━━━━━━━━━━━━━━━━━━━\u001b[0m \u001b[32m1.3/1.3 MB\u001b[0m \u001b[31m81.0 MB/s\u001b[0m eta \u001b[36m0:00:00\u001b[0m\n",
            "\u001b[?25hCollecting pyyaml>=5.1\n",
            "  Downloading PyYAML-6.0-cp310-cp310-manylinux_2_5_x86_64.manylinux1_x86_64.manylinux_2_12_x86_64.manylinux2010_x86_64.whl (682 kB)\n",
            "\u001b[2K     \u001b[90m━━━━━━━━━━━━━━━━━━━━━━━━━━━━━━━━━━━━━━\u001b[0m \u001b[32m682.2/682.2 kB\u001b[0m \u001b[31m65.4 MB/s\u001b[0m eta \u001b[36m0:00:00\u001b[0m\n",
            "\u001b[?25hCollecting tokenizers!=0.11.3,<0.14,>=0.11.1\n",
            "  Downloading tokenizers-0.13.3-cp310-cp310-manylinux_2_17_x86_64.manylinux2014_x86_64.whl (7.8 MB)\n",
            "\u001b[2K     \u001b[90m━━━━━━━━━━━━━━━━━━━━━━━━━━━━━━━━━━━━━━━━\u001b[0m \u001b[32m7.8/7.8 MB\u001b[0m \u001b[31m82.6 MB/s\u001b[0m eta \u001b[36m0:00:00\u001b[0m\n",
            "\u001b[?25hCollecting huggingface-hub<1.0,>=0.14.1\n",
            "  Downloading huggingface_hub-0.15.1-py3-none-any.whl (236 kB)\n",
            "\u001b[2K     \u001b[90m━━━━━━━━━━━━━━━━━━━━━━━━━━━━━━━━━━━━━━\u001b[0m \u001b[32m236.8/236.8 kB\u001b[0m \u001b[31m42.5 MB/s\u001b[0m eta \u001b[36m0:00:00\u001b[0m\n",
            "\u001b[?25hRequirement already satisfied: regex!=2019.12.17 in /shared-libs/python3.10/py/lib/python3.10/site-packages (from transformers<5.0.0,>=4.7.0->alibi) (2022.9.13)\n",
            "Collecting fsspec\n",
            "  Downloading fsspec-2023.6.0-py3-none-any.whl (163 kB)\n",
            "\u001b[2K     \u001b[90m━━━━━━━━━━━━━━━━━━━━━━━━━━━━━━━━━━━━━━\u001b[0m \u001b[32m163.8/163.8 kB\u001b[0m \u001b[31m33.5 MB/s\u001b[0m eta \u001b[36m0:00:00\u001b[0m\n",
            "\u001b[?25hRequirement already satisfied: smart-open<6.0.0,>=5.2.1 in /shared-libs/python3.10/py/lib/python3.10/site-packages (from pathy>=0.3.5->spacy[lookups]<4.0.0,>=2.0.0->alibi) (5.2.1)\n",
            "Requirement already satisfied: six>=1.5 in /shared-libs/python3.10/py-core/lib/python3.10/site-packages (from python-dateutil>=2.7->matplotlib<4.0.0,>=3.0.0->alibi) (1.16.0)\n",
            "Requirement already satisfied: confection<1.0.0,>=0.0.1 in /shared-libs/python3.10/py/lib/python3.10/site-packages (from thinc<8.2.0,>=8.1.0->spacy[lookups]<4.0.0,>=2.0.0->alibi) (0.0.3)\n",
            "Requirement already satisfied: click<9.0.0,>=7.1.1 in /shared-libs/python3.10/py/lib/python3.10/site-packages (from typer<0.5.0,>=0.3.0->spacy[lookups]<4.0.0,>=2.0.0->alibi) (8.1.3)\n",
            "Requirement already satisfied: MarkupSafe>=0.23 in /shared-libs/python3.10/py-core/lib/python3.10/site-packages (from jinja2->spacy[lookups]<4.0.0,>=2.0.0->alibi) (2.0.0)\n",
            "Installing collected packages: tokenizers, safetensors, tifffile, spacy-lookups-data, pyyaml, PyWavelets, networkx, lazy_loader, imageio, fsspec, scikit-image, huggingface-hub, transformers, alibi\n",
            "Successfully installed PyWavelets-1.4.1 alibi-0.9.2 fsspec-2023.6.0 huggingface-hub-0.15.1 imageio-2.31.1 lazy_loader-0.2 networkx-3.1 pyyaml-6.0 safetensors-0.3.1 scikit-image-0.20.0 spacy-lookups-data-1.0.3 tifffile-2023.4.12 tokenizers-0.13.3 transformers-4.30.2\n",
            "\n",
            "\u001b[1m[\u001b[0m\u001b[34;49mnotice\u001b[0m\u001b[1;39;49m]\u001b[0m\u001b[39;49m A new release of pip is available: \u001b[0m\u001b[31;49m23.0.1\u001b[0m\u001b[39;49m -> \u001b[0m\u001b[32;49m23.1.2\u001b[0m\n",
            "\u001b[1m[\u001b[0m\u001b[34;49mnotice\u001b[0m\u001b[1;39;49m]\u001b[0m\u001b[39;49m To update, run: \u001b[0m\u001b[32;49mpip install --upgrade pip\u001b[0m\n"
          ]
        }
      ],
      "source": [
        "!pip install alibi"
      ]
    },
    {
      "cell_type": "code",
      "execution_count": null,
      "metadata": {
        "cell_id": "bb38bb05376b429297fb0b3618fec6d4",
        "deepnote_cell_type": "code",
        "deepnote_to_be_reexecuted": false,
        "execution_millis": 10473,
        "execution_start": 1686885694481,
        "id": "_ED-yF_hQy7b",
        "outputId": "323e7e2c-1e4b-4b2e-cc7b-d3cf1234e50a",
        "source_hash": "e4ec2c4b"
      },
      "outputs": [
        {
          "name": "stderr",
          "output_type": "stream",
          "text": [
            "2023-06-16 03:21:35.062920: I tensorflow/core/platform/cpu_feature_guard.cc:193] This TensorFlow binary is optimized with oneAPI Deep Neural Network Library (oneDNN) to use the following CPU instructions in performance-critical operations:  AVX2 FMA\n",
            "To enable them in other operations, rebuild TensorFlow with the appropriate compiler flags.\n",
            "2023-06-16 03:21:35.266905: W tensorflow/stream_executor/platform/default/dso_loader.cc:64] Could not load dynamic library 'libcudart.so.11.0'; dlerror: libcudart.so.11.0: cannot open shared object file: No such file or directory\n",
            "2023-06-16 03:21:35.266966: I tensorflow/stream_executor/cuda/cudart_stub.cc:29] Ignore above cudart dlerror if you do not have a GPU set up on your machine.\n",
            "2023-06-16 03:21:35.308521: E tensorflow/stream_executor/cuda/cuda_blas.cc:2981] Unable to register cuBLAS factory: Attempting to register factory for plugin cuBLAS when one has already been registered\n",
            "2023-06-16 03:21:38.061257: W tensorflow/stream_executor/platform/default/dso_loader.cc:64] Could not load dynamic library 'libnvinfer.so.7'; dlerror: libnvinfer.so.7: cannot open shared object file: No such file or directory\n",
            "2023-06-16 03:21:38.061396: W tensorflow/stream_executor/platform/default/dso_loader.cc:64] Could not load dynamic library 'libnvinfer_plugin.so.7'; dlerror: libnvinfer_plugin.so.7: cannot open shared object file: No such file or directory\n",
            "2023-06-16 03:21:38.061411: W tensorflow/compiler/tf2tensorrt/utils/py_utils.cc:38] TF-TRT Warning: Cannot dlopen some TensorRT libraries. If you would like to use Nvidia GPU with TensorRT, please make sure the missing libraries mentioned above are installed properly.\n",
            "2023-06-16 03:21:42.469713: W tensorflow/stream_executor/platform/default/dso_loader.cc:64] Could not load dynamic library 'libcuda.so.1'; dlerror: libcuda.so.1: cannot open shared object file: No such file or directory\n",
            "2023-06-16 03:21:42.469773: W tensorflow/stream_executor/cuda/cuda_driver.cc:263] failed call to cuInit: UNKNOWN ERROR (303)\n",
            "2023-06-16 03:21:42.469814: I tensorflow/stream_executor/cuda/cuda_diagnostics.cc:156] kernel driver does not appear to be running on this host (p-87110296-876e-426f-b91d-aaf681223468): /proc/driver/nvidia/version does not exist\n"
          ]
        }
      ],
      "source": [
        "from alibi.explainers import AnchorTabular"
      ]
    },
    {
      "cell_type": "code",
      "execution_count": null,
      "metadata": {
        "cell_id": "c51b7d6bfea74288b77cb73ba8c86978",
        "deepnote_cell_type": "code",
        "deepnote_to_be_reexecuted": false,
        "execution_millis": 76,
        "execution_start": 1686931515362,
        "id": "msFaoQBaQy7c",
        "source_hash": "51992da3"
      },
      "outputs": [],
      "source": [
        "# Inserte su código para generar sistema de reglas aquí\n",
        "\n",
        "idx = 1000\n",
        "# explicar predicción idx 1000\n",
        "\n",
        "idx = 3001\n",
        "# explicar predicción idx 3001\n",
        "\n",
        "idx = 5751\n",
        "# explicar predicción idx 5751"
      ]
    },
    {
      "cell_type": "markdown",
      "metadata": {
        "cell_id": "b358083895d844bbafee6969082e98db",
        "deepnote_cell_type": "markdown",
        "id": "0QvR_juJQy7c"
      },
      "source": [
        "# Retrospectiva... (10 puntos)"
      ]
    },
    {
      "cell_type": "markdown",
      "metadata": {
        "cell_id": "1db767e048bd4bf2bc86d9c49acc0c36",
        "deepnote_cell_type": "markdown",
        "id": "-5ljFheRQy7c"
      },
      "source": [
        "En base a los diferentes métodos que implementa y ha comentado en este laboratorio, comente qué métodos le permiten entregar mejores conclusiones para la tarea de clasificación de diabetes. Por otro lado, ¿qué métodos son más útiles para el problema del doctor Simi, métodos agnosticos locales o globales?"
      ]
    },
    {
      "cell_type": "markdown",
      "metadata": {
        "cell_id": "c841a2af491648f591108c7483afc66f",
        "deepnote_cell_type": "markdown",
        "id": "PVbQ8dyoQy7c"
      },
      "source": [
        "> Fundamente su Respuesta aquí"
      ]
    },
    {
      "cell_type": "markdown",
      "metadata": {
        "created_in_deepnote_cell": true,
        "deepnote_cell_type": "markdown",
        "id": "arS9Nm9YQy7d"
      },
      "source": [
        "<a style='text-decoration:none;line-height:16px;display:flex;color:#5B5B62;padding:10px;justify-content:end;' href='https://deepnote.com?utm_source=created-in-deepnote-cell&projectId=87110296-876e-426f-b91d-aaf681223468' target=\"_blank\">\n",
        "<img alt='Created in deepnote.com' style='display:inline;max-height:16px;margin:0px;margin-right:7.5px;' src='data:image/svg+xml;base64,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' > </img>\n",
        "Created in <span style='font-weight:600;margin-left:4px;'>Deepnote</span></a>"
      ]
    }
  ],
  "metadata": {
    "colab": {
      "collapsed_sections": [
        "LCOUC4jss148",
        "GtG74Cphq56p"
      ],
      "provenance": []
    },
    "deepnote": {},
    "deepnote_execution_queue": [],
    "deepnote_notebook_id": "0afd011ae5da4596ac4144fb27adc429",
    "deepnote_persisted_session": {
      "createdAt": "2023-06-16T16:30:21.663Z"
    },
    "kernelspec": {
      "display_name": "lab",
      "language": "python",
      "name": "python3"
    },
    "language_info": {
      "codemirror_mode": {
        "name": "ipython",
        "version": 3
      },
      "file_extension": ".py",
      "mimetype": "text/x-python",
      "name": "python",
      "nbconvert_exporter": "python",
      "pygments_lexer": "ipython3",
      "version": "3.10.16"
    },
    "toc": {
      "base_numbering": 1,
      "nav_menu": {},
      "number_sections": true,
      "sideBar": true,
      "skip_h1_title": true,
      "title_cell": "Tabla de Contenidos",
      "title_sidebar": "Contenidos",
      "toc_cell": false,
      "toc_position": {
        "height": "calc(100% - 180px)",
        "left": "10px",
        "top": "150px",
        "width": "241.867px"
      },
      "toc_section_display": true,
      "toc_window_display": true
    },
    "varInspector": {
      "cols": {
        "lenName": 16,
        "lenType": 16,
        "lenVar": 40
      },
      "kernels_config": {
        "python": {
          "delete_cmd_postfix": "",
          "delete_cmd_prefix": "del ",
          "library": "var_list.py",
          "varRefreshCmd": "print(var_dic_list())"
        },
        "r": {
          "delete_cmd_postfix": ") ",
          "delete_cmd_prefix": "rm(",
          "library": "var_list.r",
          "varRefreshCmd": "cat(var_dic_list()) "
        }
      },
      "types_to_exclude": [
        "module",
        "function",
        "builtin_function_or_method",
        "instance",
        "_Feature"
      ],
      "window_display": false
    }
  },
  "nbformat": 4,
  "nbformat_minor": 0
}
