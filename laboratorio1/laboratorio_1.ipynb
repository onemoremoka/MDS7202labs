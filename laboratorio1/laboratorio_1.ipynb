{
  "cells": [
    {
      "cell_type": "markdown",
      "metadata": {
        "cell_id": "097fce6dce21405c911254a775ae3d26",
        "deepnote_cell_type": "markdown",
        "id": "J4_IcuuKZj9Y"
      },
      "source": [
        "<h1><center>Laboratorio 1: Git 👾</center></h1>\n",
        "\n",
        "<center><strong>MDS7202: Laboratorio de Programación Científica para Ciencia de Datos - Otoño 2025</strong></center>"
      ]
    },
    {
      "cell_type": "markdown",
      "metadata": {
        "cell_id": "9e8e8f2ae34e461da4f44508a96d2cf4",
        "deepnote_cell_type": "markdown",
        "id": "AEXIACc7aADv"
      },
      "source": [
        "### Cuerpo Docente:\n",
        "\n",
        "- Profesores: Stefano Schiappacasse,Sebastián Tinoco\n",
        "- Auxiliares: Melanie Peña, Valentina Rojas\n",
        "- Ayudantes: Angelo Muñoz, Valentina Zúñiga"
      ]
    },
    {
      "cell_type": "markdown",
      "metadata": {
        "cell_id": "3e5b48c23e1b48f6a64de41899166179",
        "deepnote_cell_type": "markdown",
        "id": "0HgMMyoCaG8X"
      },
      "source": [
        "### Equipo: **SUPER IMPORTANTE - notebooks sin nombre no serán revisados**\n",
        "\n",
        "- Nombre de alumno 1: Marcos Ignacio Huenchumil Illanes\n",
        "- Nombre de alumno 2: Nicolás Fuenzalida Sáez"
      ]
    },
    {
      "cell_type": "markdown",
      "metadata": {
        "cell_id": "1db7c82b68614d19b112ba3b0d0abe4d",
        "deepnote_cell_type": "markdown",
        "id": "fz77X6glaK6y"
      },
      "source": [
        "### **Link de repositorio de GitHub:** [Insertar Enlace](https://github.com/onemoremoka/CC7202labs)"
      ]
    },
    {
      "cell_type": "markdown",
      "metadata": {
        "cell_id": "bc3dac65089d4ae6a43c079547dee179",
        "deepnote_cell_type": "markdown",
        "id": "rRwqaxIZaNx3"
      },
      "source": [
        "## Reglas:\n",
        "\n",
        "- **Grupos de 2 personas**\n",
        "- Fecha de entrega: 6 días de plazo con descuento de 1 punto por día. Entregas Martes a las 23:59.\n",
        "- Instrucciones del lab el viernes a las 16:15 en formato online. Asistencia no es obligatoria, pero se recomienda fuertemente asistir.\n",
        "- <u>Prohibidas las copias</u>. Cualquier intento de copia será debidamente penalizado con el reglamento de la escuela.\n",
        "- Tienen que subir el laboratorio a u-cursos y a su repositorio de github. Labs que no estén en u-cursos no serán revisados. Recuerden que el repositorio también tiene nota.\n",
        "- Cualquier duda fuera del horario de clases al foro. Mensajes al equipo docente serán respondidos por este medio.\n",
        "- Pueden usar cualquier material del curso que estimen conveniente."
      ]
    },
    {
      "cell_type": "markdown",
      "metadata": {
        "cell_id": "05e4729411a24153837fd13b7f198bd9",
        "deepnote_cell_type": "markdown",
        "id": "bmToL27JaSrf"
      },
      "source": [
        "## Objetivos del lab:\n",
        "\n",
        "\n",
        "- Conocer los elementos básicos que conformar `Git`\n",
        "- Clonar repositorios\n",
        "- Identificar ramas de un repositorio\n",
        "- Reconocer y solucionar problemas entre ramas\n",
        "- Subir cambios a un repositorio"
      ]
    },
    {
      "cell_type": "markdown",
      "metadata": {
        "cell_id": "5ebae9d601bd4d508349ab55297e9f82",
        "deepnote_cell_type": "markdown",
        "id": "bvnPCvrVbJLK"
      },
      "source": [
        "## Parte 1: Conocimiento Teórico (2.5 pts)\n",
        "\n",
        "<p align=\"center\">\n",
        "  <img src=\"https://cdn.thedesigninspiration.com/wp-content/uploads/sites/3/2019/04/macintosh-hdusersbrittanyloefflerdownloadsanig-1.gif\" width=\"350\">\n",
        "</p>"
      ]
    },
    {
      "cell_type": "markdown",
      "metadata": {
        "cell_id": "627494dba4f84520b3ee8b9cbf58ee79",
        "deepnote_cell_type": "markdown",
        "id": "JHl-24XnbNLF"
      },
      "source": [
        "Responda las siguientes preguntas (0.2 pts c/u):\n",
        "\n",
        "1. ¿Qué es `Git` y cómo se relaciona con el control de versiones?\n",
        "\n",
        "2. Nombre y explique 3 diferencias entre `Git` y `Github`.\n",
        "\n",
        "3. ¿Qué es un `hash` y cómo se representa en un `commit`? De un ejemplo.\n",
        "\n",
        "4. ¿Que elementos componen a la estructura de datos de `Git`?\n",
        "\n",
        "5. ¿Que comandos de `Git` sirven para crear un repositorio y hacer seguimiento a cambios en los archivos?"
      ]
    },
    {
      "cell_type": "markdown",
      "metadata": {
        "cell_id": "6d06c40f429044a298b27c666f51f46f",
        "deepnote_cell_type": "markdown",
        "id": "2tXCSkf0caG8"
      },
      "source": [
        "<code>RESPUESTAS:</code>\n",
        "\n",
        "1. Git es un **sistema de control de versiones distribuido** que permite gestionar el historial de cambios de un proyecto. Cada colaborador mantiene una copia completa del repositorio en local permitiendo un trabajo independiente de la disponibilidad del servidor central. Todos los cambios se pueden sincronizar en una rama mediante el versionamiento, lo cual implica generar diferentes estados del codigo fuente. Además permite trabajar mediante <code>branch</code> y fusion de cambios <code>merge</code> que facilita el desarrollo colaborativo en diferentes parte del proyecto sin que estos se interfieran entre sí.\n",
        "\n",
        "2.  \n",
        "    - Git es una herramienta de línea de comandos que permite gestionar código fuente, mientras que GitHub es una plataforma basada en la web con una interfaz visual que permite visualizar los repositorios de forma más amigable con el usuario.  \n",
        "    - Git se instala localmente en el dispositivo del usuario. Una vez sincronizados los cambios respecto al remoto, el usuario puede trabajar independientemente de la conectividad a la plataforma donde se aloje el repositorio. GitHub, por otro lado, es una herramienta en la nube que permite alojar repositorios de Git.  \n",
        "    - GitHub agrega una capa colaborativa, lo que permite la integración con herramientas externas, permitiendo por ejemplo el flujo CI/CD, gestión de permisos de los colaboradores, realización de pull requests, entre otras funcionalidades. Esta es una característica propia de plataformas que hospedan repositorios de Git (como GitHub o GitLab) y no de Git perse.\n",
        "\n",
        "3. El <code>hash</code> de un <code>commit</code> es un identificador único de 40 carácteres alfanuméricos que se genera a partir de una función de Hash (usando el algortimo SHA-1 por defecto), el cual representa de manera única el contenido del commit. Por ejemplo, de existar varios colaboradores trabajando en paralelo en una misma <code>branch</code> el uso de el hash como identificador basado en el contenido evita que existan commit con hash duplicados. Además el hash previene que se generen cambios en el contenido dle commit dado que al ser la funcion de Hash determinista, el cambio en el contenido del commit, daria como resultado un hash diferente, lo cual permite identificar cambios no permitidos en el historial de versiones.\n",
        "\n",
        "4. La estructura de datos de Git se compone de:\n",
        "\n",
        "    * Commits: Registros de cambios con un identificador único.\n",
        "    * Árboles: Representan la estructura de archivos en un commit.\n",
        "    * Blobs: Almacenan el contenido de los archivos.\n",
        "    * Referencias (Refs): Punteros a commits (HEAD, ramas, tags).\n",
        "    * Índice (Staging Area): Zona donde se preparan cambios antes de un commit.\n",
        "    * Repositorio (.git/): Contiene el historial y configuración del proyecto.\n",
        "    * Remotes: Versiones del repositorio almacenadas en servidores externos.\n",
        "\n",
        "5. \n",
        "\n",
        "\n",
        "Inicializar un repositorio:\n",
        "- git init                     # Crea un nuevo repositorio local\n",
        "- git clone <url-repositorio>  # Clona un repositorio existente\n",
        "\n",
        "Configuración inicial:\n",
        "- git config --global user.name <usuario>\n",
        "- git config --global user.email <mail>\n",
        "\n",
        "Gestionar cambios en archivos:\n",
        "- git status                   # Muestra el estado de los archivos\n",
        "- git add <archivo>             # Añade archivos al área de staging\n",
        "- git add .                    # Añade todos los cambios\n",
        "\n",
        "Ver historial:\n",
        "- git log                       # Muestra todos los commits\n",
        "- git diff                      # Muestra cambios no añadidos\n"
      ]
    },
    {
      "cell_type": "markdown",
      "metadata": {
        "cell_id": "ec9855406e324cc98b59e33500faea84",
        "deepnote_cell_type": "markdown",
        "id": "MACccbP4gU43"
      },
      "source": [
        "Responda si las siguientes afirmaciones son Verdaderas (V) o Falsas (F). Justifique en **cualquiera** de los casos (0.2 pts c/u):\n",
        "\n",
        "\n",
        "6. `Git` siempre resuelve automáticamente los problemas de lineas al hacer merge entre diferentes ramas.\n",
        "    - (F) En caso de existir cambios simultaneos en un mismo extracto de código, git permite al usuario decidir que cambios mantener en la versión final del merge.\n",
        "7. Ejecutar `git pull` sobre un repositorio es equivalente a ejecutar `git clone`.\n",
        "    - (F) <code>git clone</code> se utiliza para inicializar en el entorno local un repositorio ubicado en una plataforma de repositorios de Git. <code>git pull</code> permite actualizar los últimos cambios sobre un repositirio que ya se encuentra en el entorno local.\n",
        "8. `git status` genera los mismos resultados que `git log`.\n",
        "    - (F) <code>git status</code>  muestra el estado actual del repositorio, indicando los cambios realizados localmente y su relación con el último commit confirmado. <code>git log</code> muestra el historial de todos los commit realizados sobre la branch actual.\n",
        "9. En `Git` es posible deshacer cambios y volver a versiones anteriores del código.\n",
        "    - (V) Si las versiones subidas al remoto pueden ser alteradas por el usuario para, por ejemplo eliminar los ultimos commit y volver a algun commit anterior. Para ello se debe identificar el commit que se requiere alterar/recuperar mediante su valor de hash.\n",
        "10. El comando `git commit` se utiliza para enviar cambios al repositorio remoto.\n",
        "    - (F) <code>git commit</code> agrega una pequeña campo de texto autodescriptivo de los cambios realizados en este nuevo estado respecto al estado anterior."
      ]
    },
    {
      "cell_type": "markdown",
      "metadata": {
        "cell_id": "7e6a5a6e15b045cc9d104cf017825f1a",
        "deepnote_cell_type": "markdown",
        "id": "DFnmCToOgeM3"
      },
      "source": [
        "<code>Escriba sus respuestas acá:</code>"
      ]
    },
    {
      "cell_type": "markdown",
      "metadata": {
        "cell_id": "54317cad024744ebaf4938df55ba3b95",
        "deepnote_cell_type": "markdown",
        "id": "LYq55sI2Rjf0"
      },
      "source": [
        "Por último, investigue y comente con sus palabras para qué sirven los siguientes comandos:\n",
        "\n",
        "11. `git stash` (0.25 puntos): Permite guardar los camiones no commiteados temporalmente de forma de permitir cambiarse de rama sin perder los cambios realizados.\n",
        "\n",
        "12. `git reset`. ¿Cuál es la diferencia de este comando con `git revert`?. (0.25 puntos): git reset permite eliminar commits en el historial local, es un comando destructivo dado que todos los commit posteriores al especificado son eliminados. git reverse por otra parte, agrega un nuevo commit que deshace los cambios hasta el commit especificado, pero no borra los commit posteriores."
      ]
    },
    {
      "cell_type": "markdown",
      "metadata": {
        "cell_id": "3e4d8b9974e4426ca38fd20f4b835a55",
        "deepnote_cell_type": "markdown",
        "id": "i7Em9JkbbRLo"
      },
      "source": [
        "## Parte 2: Creando una presentación personal (1.5 pts)\n",
        "\n",
        "<p align=\"center\">\n",
        "  <img src=\"https://media.tenor.com/arqlNu8gyJYAAAAC/cat-cat-jumping.gif\" width=\"150\">\n",
        "</p>\n",
        "\n"
      ]
    },
    {
      "cell_type": "markdown",
      "metadata": {
        "cell_id": "988648005dba4b9782c6625dfe6ae4ef",
        "deepnote_cell_type": "markdown",
        "id": "XWIHfyrlbYOJ"
      },
      "source": [
        "Para empezar a \"*soltar las manos*\" con `Git`, se les encomienda crear un repositorio con una presentación personal. El repositorio debe contener un breve resumen de quienes son ustedes, sus gustos, experiencias, y cualquier otro detalle interesante que ustedes consideren relevante.\n",
        "\n",
        "Para realizar esto, deben seguir los siguientes pasos:\n",
        "\n",
        "1. Contar con una cuenta de github (1 por persona)\n",
        "2. Crear un repositorio con su nombre de usuario\n",
        "3. Vincular el repositorio a su ambiente local ¿Qué comando(s) me permiten hacer esto?\n",
        "4. Crear un archivo `readme.md` con la información que ustedes deseen compartir.\n",
        "5. Realizar `push` con los cambios generados\n",
        "\n",
        "A modo de ejemplo, pueden guiarse por esta *suculenta* [presentación](https://github.com/Mezosky)\n",
        "\n",
        "**Nota: Deben trabajar todos estos puntos desde su ambiente local**\n",
        "\n",
        "*Hint: Una buena opción es usar templates de presentación personal que encuentren en Google, como los que ofrece este [sitio](https://durgeshsamariya.github.io/awesome-github-profile-readme-templates/#/)*.\n",
        "\n",
        "**Entregable:**\n",
        "\n",
        "Enlace al repositorio con la presentación personal.\n",
        "\n",
        "IMPORTANTE: DEBEN ADJUNTAR UN ENLACE POR PERSONA"
      ]
    },
    {
      "cell_type": "markdown",
      "metadata": {
        "cell_id": "081b38d55dc54282bc8e3cd300ce9d3e",
        "deepnote_cell_type": "markdown",
        "id": "IIkWyl9tf0Sg"
      },
      "source": [
        "<code>Link Presentacion 1:</code> https://github.com/onemoremoka\n",
        "\n",
        "<code>Link Presentacion 2:</code> https://github.com/nicolasfuenzalida"
      ]
    },
    {
      "cell_type": "markdown",
      "metadata": {
        "cell_id": "0481a05d2d1a46928f6cfb7762720980",
        "deepnote_cell_type": "markdown",
        "id": "CAzXOwvDY-IG"
      },
      "source": [
        "## Parte 3: Trabajando sobre un repositorio externo (2 pts)\n",
        "\n",
        "<p align=\"center\">\n",
        "  <img src=\"https://media.tenor.com/YXL-0SK15j4AAAAC/dance-animals.gif\" width=\"300\">\n",
        "</p>\n",
        "\n",
        "Tras muchos dolores de cabeza, un grupo de entusiastas académicos decidieron aprender sobre `Git` y así trabajar colaborativamente de forma más ordenada y eficiente. Después de una infinidad de intentos y aprender de sus errores \"*a la mala*\", los académicos lograron levantar un [repositorio](https://github.com/MDS7202/lab1) en `Github`. Usando el repositorio de los académicos, responda las siguientes preguntas (**incluya también los comandos en `Git` ocupados**):\n"
      ]
    },
    {
      "cell_type": "markdown",
      "metadata": {
        "cell_id": "bcef73b2e8604579bde90ed6622abfe9",
        "deepnote_cell_type": "markdown",
        "id": "BFRnAw0rfguR"
      },
      "source": [
        "1. Clone el repositorio a su ambiente local. (0.25 pts)"
      ]
    },
    {
      "cell_type": "markdown",
      "metadata": {
        "cell_id": "5d126ac3819c44479af94d3895bc4c97",
        "deepnote_cell_type": "markdown",
        "id": "KXro32yBeilN"
      },
      "source": [
        "<code>Escriba sus respuestas acá:</code>  <code>git clone git@github.com:MDS7202/lab1.git </code>"
      ]
    },
    {
      "cell_type": "markdown",
      "metadata": {
        "cell_id": "e215e4e25b2440f09ac273ba63603986",
        "deepnote_cell_type": "markdown",
        "id": "8QB-GKmQRjf1"
      },
      "source": [
        "2. Descomprima los archivos subidos con la tarea en U-cursos en la carpeta recién clonada de github. Una vez realizado esto, cree un archivo `.gitignore` con el cual omita la carpeta `videos` y los archivos con la extensión `.txt` exceptuando el archivo `171.txt` de la carpeta `texts`. (0.25 pts)"
      ]
    },
    {
      "cell_type": "markdown",
      "metadata": {
        "cell_id": "186233b44d004e3bbd86262d010188b5",
        "deepnote_cell_type": "markdown",
        "id": "7VJ8IIYpRjf1"
      },
      "source": [
        "<code>Para esta pregunta usted deberá adjuntar el .gitignore creado en su repo.</code>\n",
        "\n",
        "videos\n",
        "\n",
        "*.txt\n",
        "\n",
        "!texts/171.txt"
      ]
    },
    {
      "cell_type": "markdown",
      "metadata": {
        "cell_id": "1de150590a41484a988b8e46616a2324",
        "deepnote_cell_type": "markdown",
        "id": "q2qmiDyjt2M_"
      },
      "source": [
        "3. Inspeccione brevemente el repositorio: ¿Cual es el objetivo del proyecto? Explique brevemente la estructura del proyecto, asi como también cada elemento que lo conforma. (0.25 pts)"
      ]
    },
    {
      "cell_type": "markdown",
      "metadata": {
        "cell_id": "082ca01c865e48e28352b280400c47b6",
        "deepnote_cell_type": "markdown",
        "id": "aBHpR8VTftkT"
      },
      "source": [
        "<code>Escriba sus respuestas acá:</code> El proyecto tiene un archivo de ejecucion <code>main.py</code> el cual pide el nombre de un animal al usuario y se da como input a una función auxiliar <code>animales</code> el cual acepta 3 tipos de animales: gato perro y fox. Dependiendo del animal ingresado se entrega una respuesta diferente. En caso de no ser un animal valido se responde con \"animal no reconocido:(\"."
      ]
    },
    {
      "cell_type": "markdown",
      "metadata": {
        "cell_id": "3aab4a3ee0c246e1be955680ad653fb8",
        "deepnote_cell_type": "markdown",
        "id": "XFwqcpLZfylf"
      },
      "source": [
        "4. Identifique los últimos cambios al repositorio, reconociendo las principales ramas de trabajo. ¿Son informativos los `commit` realizados? (0.25 pts)\n",
        "*Hint: Se recomienda usar los argumentos `all`, `graph` y `decorate`*"
      ]
    },
    {
      "cell_type": "markdown",
      "metadata": {
        "cell_id": "0fab79a360ac4c6a9ca0ab884f85c7e1",
        "deepnote_cell_type": "markdown",
        "id": "cmWfXBkOhog0"
      },
      "source": [
        "<code>Escriba sus respuestas acá:</code>\n",
        "\n",
        "Se tienes 3 branch en el repositorio. fix-ifs, new_features y main. En el momento de ejecución estamos sobre la rama main\n",
        "```bash\n",
        "PS C:\\Users\\ignacio\\Desktop\\repos\\lab1> git branch --all\n",
        "* main\n",
        "  remotes/origin/HEAD -> origin/main\n",
        "  remotes/origin/fix-ifs\n",
        "  remotes/origin/main\n",
        "  remotes/origin/new_features\n",
        "```\n",
        "\n",
        "Los ultimos 3 commits de la rama main se muestran a continuación:\n",
        "```bash\n",
        "PS C:\\Users\\ignacio\\Desktop\\repos\\lab1> git log --oneline --all\n",
        "362fe21 (HEAD -> main, origin/new_features, origin/main, origin/HEAD) Se separa el proyecto en modulos\n",
        "c8b1a62 se agrega funcion\n",
        "b262d86 primer commit\n",
        "```\n",
        "\n",
        "Los commit son informativos dado que especifican en pocas palabras el cambio relevante para el nuevo cambios de la branch. El último commit <code>362fe21</code> a diferencia de los otrs commit que añaden codigo, este informa sobre la creación de una nueva branch."
      ]
    },
    {
      "cell_type": "markdown",
      "metadata": {
        "cell_id": "d07b24d21f2343fb9a7e6a5db74e98c3",
        "deepnote_cell_type": "markdown",
        "id": "Vqbj9HdXrUnN"
      },
      "source": [
        "5. Uno de los académicos se da cuenta que la rama principal de trabajo no se ejecuta correctamente para todos los argumentos. Señale y explique el error en el código e identifique a la persona que lo cometió usando `git blame` (0.25 pts)\n",
        "\n",
        "*Hint: Le puede ser útil esta [documentación](https://www.atlassian.com/es/git/tutorials/inspecting-a-repository/git-blame).*"
      ]
    },
    {
      "cell_type": "markdown",
      "metadata": {
        "cell_id": "bc5b0f9c639643108f8e66687b721732",
        "deepnote_cell_type": "markdown",
        "id": "5ajhV2Iar3tV"
      },
      "source": [
        "<code>Escriba sus respuestas acá:</code>\n",
        "\n",
        "Existe un error en el uso de los condicionales. Los condicionales de la linea 9 y 11 deberían ser <code>elif</code> dado que para más de una posibilidad alternativa debe ser añadido un elif antes del else.\n",
        "\n",
        "```bash\n",
        "PS C:\\Users\\ignacio\\Desktop\\repos\\lab1> git blame animales.py   \n",
        "362fe21e (mezosky 2023-03-23 21:47:34 -0300  1) def animales(input):\n",
        "362fe21e (mezosky 2023-03-23 21:47:34 -0300  2)     \n",
        "362fe21e (mezosky 2023-03-23 21:47:34 -0300  3)     '''\n",
        "362fe21e (mezosky 2023-03-23 21:47:34 -0300  4)     Como hace el animalito?\n",
        "362fe21e (mezosky 2023-03-23 21:47:34 -0300  5)     '''\n",
        "362fe21e (mezosky 2023-03-23 21:47:34 -0300  6)     \n",
        "362fe21e (mezosky 2023-03-23 21:47:34 -0300  7)     if input.lower() == 'gato':\n",
        "362fe21e (mezosky 2023-03-23 21:47:34 -0300  8)         print('miau')\n",
        "362fe21e (mezosky 2023-03-23 21:47:34 -0300  9)     if input.lower() == 'perro':\n",
        "362fe21e (mezosky 2023-03-23 21:47:34 -0300 10)         print('guau')\n",
        "362fe21e (mezosky 2023-03-23 21:47:34 -0300 11)     if input.lower() == 'fox':\n",
        "362fe21e (mezosky 2023-03-23 21:47:34 -0300 12)         print('https://www.youtube.com/watch?v=jofNR_WkoCE')\n",
        "362fe21e (mezosky 2023-03-23 21:47:34 -0300 13)     else:\n",
        "362fe21e (mezosky 2023-03-23 21:47:34 -0300 14)         raise ValueError('animal no reconocido :(')\n",
        "```"
      ]
    },
    {
      "cell_type": "markdown",
      "metadata": {
        "cell_id": "f3f4e78e6d9145ebbb120c0a2e4aade6",
        "deepnote_cell_type": "markdown",
        "id": "m8J3uE7MhqTA"
      },
      "source": [
        "6. Busque los siguientes `commit`:\n",
        "\n",
        "- `c8b1a62d7299552b0654f930d695b33109214111`\n",
        "- `362fe21ee44f53ee944cee4ba484600308f83d78`\n",
        "- `25543a3baf77292baf849726784ca005473acab1`\n",
        "\n",
        "¿Qué diferencias existen entre cada uno? (0.25 pts)\n",
        "\n",
        "primer comando:\n",
        "```bash\n",
        "PS C:\\Users\\ignacio\\Desktop\\repos\\lab1> git show \"c8b1a62d7299552b0654f930d695b33109214111\"\n",
        "commit c8b1a62d7299552b0654f930d695b33109214111\n",
        "Author: seba <stinoco@fen.uchile.cl>\n",
        "Date:   Wed Mar 22 17:28:19 2023 -0300\n",
        "\n",
        "    se agrega funcion\n",
        "\n",
        "diff --git a/main.py b/main.py\n",
        "index 994e699..a4484fb 100644\n",
        "--- a/main.py\n",
        "+++ b/main.py\n",
        "@@ -1,4 +1,19 @@\n",
        "+def animales(input):\n",
        "+    \n",
        "+    '''\n",
        "+    Como hace el animalito?\n",
        "+    '''\n",
        "+    \n",
        "+    if input.lower() == 'gato':\n",
        "+        print('miau')\n",
        "+    if input.lower() == 'perro':\n",
        "+        print('guau')\n",
        "+    if input.lower() == 'fox':\n",
        "+        print('https://www.youtube.com/watch?v=jofNR_WkoCE')\n",
        "+    else:\n",
        "+        raise ValueError('animal no reconocido :(')\n",
        "+\n",
        " if __name__ == '__main__':\n",
        "     print(\"Ingrese el animalito para saber que dice:\")\n",
        "     animal = input()\n",
        "-    # agregar funcion\n",
        "\\ No newline at end of file\n",
        "+    animales(animal)\n",
        "\\ No newline at end of file\n",
        "```\n",
        "\n",
        "\n",
        "segundo comando:\n",
        "```bash\n",
        "PS C:\\Users\\ignacio\\Desktop\\repos\\lab1> git show \"362fe21ee44f53ee944cee4ba484600308f83d78\"\n",
        "commit 362fe21ee44f53ee944cee4ba484600308f83d78 (HEAD -> main, origin/new_features, origin/main, origin/HEAD)\n",
        "Author: mezosky <ignacio.meza@ug.uchile.cl>\n",
        "Date:   Thu Mar 23 21:47:34 2023 -0300\n",
        "\n",
        "    Se separa el proyecto en modulos\n",
        "\n",
        "diff --git a/animales.py b/animales.py\n",
        "new file mode 100644\n",
        "index 0000000..694e39c\n",
        "--- /dev/null\n",
        "+++ b/animales.py\n",
        "@@ -0,0 +1,14 @@\n",
        "+def animales(input):\n",
        "+    \n",
        "+    '''\n",
        "+    Como hace el animalito?\n",
        "+    '''\n",
        "+    \n",
        "+    if input.lower() == 'gato':\n",
        "+        print('miau')\n",
        "+    if input.lower() == 'perro':\n",
        "+        print('guau')\n",
        "+    if input.lower() == 'fox':\n",
        "+        print('https://www.youtube.com/watch?v=jofNR_WkoCE')\n",
        "+    else:\n",
        "+        raise ValueError('animal no reconocido :(')\n",
        "diff --git a/main.py b/main.py\n",
        "index a4484fb..b2aa01f 100644\n",
        "--- a/main.py\n",
        "+++ b/main.py\n",
        "@@ -1,19 +1,6 @@\n",
        "-def animales(input):\n",
        "-\n",
        "-    '''\n",
        "-    Como hace el animalito?\n",
        "-    '''\n",
        "```\n",
        "\n",
        "para ver las diferencias entre los commit se usa <code>git diff 362fe21 c8b1a62</code>. El resultado muestra que el commit 362fe21 crea un nuevo archivo <code>animales.py</code> que agrega la función auxiliar que se usa en el <code>main.py</code>. Además de la diferencia en el contenido del archivo también notamos que los commit se realizan por diferentes usuarios.\n",
        "\n",
        "```bash\n",
        "PS C:\\Users\\ignacio\\Desktop\\repos\\lab1> git diff 362fe21 c8b1a62\n",
        "diff --git a/animales.py b/animales.py\n",
        "deleted file mode 100644\n",
        "index 694e39c..0000000\n",
        "--- a/animales.py\n",
        "+++ /dev/null\n",
        "@@ -1,14 +0,0 @@\n",
        "-def animales(input):\n",
        "-\n",
        "-    '''\n",
        "-    Como hace el animalito?\n",
        "-    '''\n",
        "-\n",
        "-    if input.lower() == 'gato':\n",
        ":...skipping...\n",
        "diff --git a/animales.py b/animales.py\n",
        "deleted file mode 100644\n",
        "index 694e39c..0000000\n",
        "--- a/animales.py\n",
        "+++ /dev/null\n",
        "@@ -1,14 +0,0 @@\n",
        "-def animales(input):\n",
        "-    \n",
        "-    '''\n",
        "-    Como hace el animalito?\n",
        "-    '''\n",
        "-    \n",
        "-    if input.lower() == 'gato':\n",
        "-        print('miau')\n",
        "-    if input.lower() == 'perro':\n",
        "-        print('guau')\n",
        "-    if input.lower() == 'fox':\n",
        "-        print('https://www.youtube.com/watch?v=jofNR_WkoCE')\n",
        "-    else:\n",
        "-        raise ValueError('animal no reconocido :(')\n",
        "diff --git a/main.py b/main.py\n",
        "index b2aa01f..a4484fb 100644\n",
        "--- a/main.py\n",
        "+++ b/main.py\n",
        "@@ -1,6 +1,19 @@\n",
        "-from animales import animales\n",
        "+def animales(input):\n",
        "+    \n",
        "+    '''\n",
        "+    Como hace el animalito?\n",
        "+    '''\n",
        "+    \n",
        "+    if input.lower() == 'gato':\n",
        "+        print('miau')\n",
        "+    if input.lower() == 'perro':\n",
        "+        print('guau')\n",
        "+    if input.lower() == 'fox':\n",
        "```"
      ]
    },
    {
      "cell_type": "markdown",
      "metadata": {
        "cell_id": "696ed361ac0c41c8a214cfad9dcb39e6",
        "deepnote_cell_type": "markdown",
        "id": "sNHnZsgIitGh"
      },
      "source": [
        "<code>Escriba sus respuestas acá:</code>"
      ]
    },
    {
      "cell_type": "markdown",
      "metadata": {
        "cell_id": "b4e18f8ce94c430f85915c4e2732d05b",
        "deepnote_cell_type": "markdown",
        "id": "WQIPbfNCgpxC"
      },
      "source": [
        "7. Realice una `merge` de la rama `fix-ifs` con la rama `main` y describa lo que ocurre. ¿Qué parte del código podría estar ocasionando esto? (0.25 pts)"
      ]
    },
    {
      "cell_type": "markdown",
      "metadata": {
        "cell_id": "36da6a0d4f4a427bbccac09e2ae965fd",
        "deepnote_cell_type": "markdown",
        "id": "ypH_6lL5ioZz"
      },
      "source": [
        "<code>Escriba sus respuestas acá:</code>\n",
        "\n",
        "Ocurre un error al realizar el marge usando <code>git merge origin/fix-its main </code>. EL error ocurre dado que dos ramas intentan modificar una misma linea de un mismo archivo, por lo que git no puedo resolverlo automaticamente. El usuario debe revisar los cambios y decidir sobre que cambios mantener en la versión final."
      ]
    },
    {
      "cell_type": "markdown",
      "metadata": {
        "cell_id": "09787ab449c543479e5cc54c2a3b6c19",
        "deepnote_cell_type": "markdown",
        "id": "GYfODCjeivkU"
      },
      "source": [
        "8. Cree una rama nueva y proponga una solución al problema anterior, adjuntando el código corregido y señalando las líneas modificadas. (0.25 pts)"
      ]
    },
    {
      "cell_type": "markdown",
      "metadata": {
        "cell_id": "6d963fba3f2d4c17a4b281c7d3f4fb8b",
        "deepnote_cell_type": "markdown",
        "id": "8heBxDU9iziT"
      },
      "source": [
        "<code>Escriba sus respuestas acá:</code>\n",
        "\n",
        "```bash\n",
        "PS C:\\Users\\ignacio\\Desktop\\repos\\lab1> git checkout -b rama-nueva\n",
        "Switched to a new branch 'rama-nueva'\n",
        "PS C:\\Users\\ignacio\\Desktop\\repos\\lab1> git branch\n",
        "  main\n",
        "* rama-nueva\n",
        "```\n",
        "\n",
        "Para solucionar el problema se pueden resolver los cambios mediante la interfaz gráfica que proporciona git sobre el código. Una ves revisamos todos los conflictos se puede realizar el <code>merge</code> con exito. Otra opción sería asegurarse de que lsa ramas que se unan no tengan lineas en conflicto, es decir que loas ramas deben ser trabajadas en distintas partes del código, para evitar posibles conflictos. "
      ]
    },
    {
      "cell_type": "markdown",
      "metadata": {
        "cell_id": "8a47d4bf8b3045d68e4f29bb449c87f1",
        "deepnote_cell_type": "markdown",
        "id": "Av8ebB9jkALO"
      },
      "source": [
        "## Fin"
      ]
    },
    {
      "cell_type": "markdown",
      "metadata": {
        "cell_id": "cec4b53942ed489f8f8b63d0e9d4f3e5",
        "deepnote_cell_type": "markdown",
        "id": "aQqZT9fSkBK8"
      },
      "source": [
        "Eso ha sido todo por ahora!! Esperamos que este laboratorio les haya gustado y servido para trabajar con `Git`. Recuerden los dias de plazo que tienen disponibles y que ante cualquier duda no duden en contactar al equipo docente.\n",
        "\n",
        "Nos vemos!!\n",
        "\n",
        "<p align=\"center\">\n",
        "  <img src=\"https://media.tenor.com/OYLdav9k9LkAAAAd/kitty-cat.gif\" width=\"350\">\n",
        "</p>\n"
      ]
    }
  ],
  "metadata": {
    "colab": {
      "provenance": []
    },
    "deepnote_execution_queue": [],
    "deepnote_notebook_id": "62cd20d52b9a4810ada15644630456dc",
    "language_info": {
      "name": "python"
    }
  },
  "nbformat": 4,
  "nbformat_minor": 0
}
